{
 "cells": [
  {
   "cell_type": "code",
   "id": "initial_id",
   "metadata": {
    "collapsed": true,
    "ExecuteTime": {
     "end_time": "2025-07-17T12:59:06.474502Z",
     "start_time": "2025-07-17T12:59:06.268433Z"
    }
   },
   "source": "!wget -nc https://raw.githubusercontent.com/lazyprogrammer/machine_learning_examples/master/nlp_class/all_book_titles.txt",
   "outputs": [
    {
     "name": "stdout",
     "output_type": "stream",
     "text": [
      "File ‘all_book_titles.txt’ already there; not retrieving.\r\n",
      "\r\n"
     ]
    }
   ],
   "execution_count": 73
  },
  {
   "metadata": {
    "ExecuteTime": {
     "end_time": "2025-07-17T12:59:06.507959Z",
     "start_time": "2025-07-17T12:59:06.503361Z"
    }
   },
   "cell_type": "code",
   "source": [
    "import nltk\n",
    "import pandas as pd\n",
    "import numpy as np\n",
    "import string\n",
    "import matplotlib.pyplot as plt\n",
    "from nltk.corpus import stopwords\n",
    "from nltk.stem import WordNetLemmatizer\n",
    "from sklearn.feature_extraction.text import CountVectorizer\n",
    "from sklearn.decomposition import TruncatedSVD\n"
   ],
   "id": "db0002aa40014e9b",
   "outputs": [],
   "execution_count": 74
  },
  {
   "metadata": {
    "ExecuteTime": {
     "end_time": "2025-07-17T12:59:06.527333Z",
     "start_time": "2025-07-17T12:59:06.521321Z"
    }
   },
   "cell_type": "code",
   "source": [
    "nltk.download('stopwords')\n",
    "nltk.download('punkt')\n",
    "nltk.download('wordnet')"
   ],
   "id": "ea3fdc507fd15518",
   "outputs": [
    {
     "name": "stderr",
     "output_type": "stream",
     "text": [
      "[nltk_data] Downloading package stopwords to\n",
      "[nltk_data]     /Users/mehmetdegirmenci/nltk_data...\n",
      "[nltk_data]   Package stopwords is already up-to-date!\n",
      "[nltk_data] Downloading package punkt to\n",
      "[nltk_data]     /Users/mehmetdegirmenci/nltk_data...\n",
      "[nltk_data]   Package punkt is already up-to-date!\n",
      "[nltk_data] Downloading package wordnet to\n",
      "[nltk_data]     /Users/mehmetdegirmenci/nltk_data...\n",
      "[nltk_data]   Package wordnet is already up-to-date!\n"
     ]
    },
    {
     "data": {
      "text/plain": [
       "True"
      ]
     },
     "execution_count": 75,
     "metadata": {},
     "output_type": "execute_result"
    }
   ],
   "execution_count": 75
  },
  {
   "metadata": {
    "ExecuteTime": {
     "end_time": "2025-07-17T12:59:06.534795Z",
     "start_time": "2025-07-17T12:59:06.533143Z"
    }
   },
   "cell_type": "code",
   "source": "wordnet_lemmatizer = WordNetLemmatizer()",
   "id": "efcaade99d15dbd8",
   "outputs": [],
   "execution_count": 76
  },
  {
   "metadata": {
    "ExecuteTime": {
     "end_time": "2025-07-17T12:59:06.558059Z",
     "start_time": "2025-07-17T12:59:06.555102Z"
    }
   },
   "cell_type": "code",
   "source": "titles = (line.rstrip('\\n') for line in open('all_book_titles.txt'))",
   "id": "a26d72316c6514fe",
   "outputs": [],
   "execution_count": 77
  },
  {
   "metadata": {
    "ExecuteTime": {
     "end_time": "2025-07-17T12:59:06.572710Z",
     "start_time": "2025-07-17T12:59:06.569639Z"
    }
   },
   "cell_type": "code",
   "source": "stops = set(stopwords.words('english'))",
   "id": "171ee5978d6634c1",
   "outputs": [],
   "execution_count": 78
  },
  {
   "metadata": {
    "ExecuteTime": {
     "end_time": "2025-07-17T12:59:06.586040Z",
     "start_time": "2025-07-17T12:59:06.582475Z"
    }
   },
   "cell_type": "code",
   "source": [
    "stops = stops.union({'introduction', 'edition', 'series', 'application',\n",
    "  'approach', 'card', 'access', 'package', 'plus', 'etext',\n",
    "  'brief', 'vol', 'fundamental', 'guide', 'essential', 'printed',\n",
    "  'third', 'second', 'fourth', 'volume'\n",
    "})"
   ],
   "id": "22746bf68660477c",
   "outputs": [],
   "execution_count": 79
  },
  {
   "metadata": {
    "ExecuteTime": {
     "end_time": "2025-07-17T12:59:06.603902Z",
     "start_time": "2025-07-17T12:59:06.599141Z"
    }
   },
   "cell_type": "code",
   "source": [
    "def my_tokenizer(s):\n",
    "    # tüm harfleri küçük harfe çevirdik\n",
    "    s=s.lower()\n",
    "\n",
    "    # metin kelimelere ayrılır tokenize edilir\n",
    "    tokens = nltk.tokenize.word_tokenize(s)\n",
    "\n",
    "    # 2 harfeten kısa olan kelimeler çıkartılır\n",
    "    # to in on it an çok fazla bilgi taşımaz\n",
    "    tokens = [t for t in tokens if len(t)>2]\n",
    "\n",
    "    #her kök lemmatize edilir köklerine ayrılır\n",
    "    # ilk vakitlerde yapmıştın hatırla\n",
    "    tokens = [wordnet_lemmatizer.lemmatize(t)for t in tokens ]\n",
    "\n",
    "    # önceden belirlenen stopword kelimelerine bakılır ve bu kelimeler atılır\n",
    "    #Hem NLTK’nin listesi hem de özel domain-specific kelimeler burada filtrelenir.\n",
    "    tokens = [t for t in tokens if t not in stops]\n",
    "\n",
    "    # içinde rakam içeren bütün kelimeler çıkarılır \"3rd\" gibi gibi\n",
    "    # bu kitap baskısıyla ilgili bütün kelimelerin çıkarılmasını sağlar\n",
    "    tokens = [t for t in tokens if not any(c.isdigit() for c in t)]\n",
    "\n",
    "    return tokens\n",
    "\n",
    "# fonksiyonun amacı normalize eder kök bulur\n",
    "# temizler stopword ve rakamlar gibi şeyler bulunmaz kısa kelimeler de olmaz\n",
    "# tokenlere bölme işlemi de yapılmış olur sadece kök bulunur yani\n",
    "\n",
    "\n",
    "\n"
   ],
   "id": "69eccbd612268133",
   "outputs": [],
   "execution_count": 80
  },
  {
   "metadata": {
    "ExecuteTime": {
     "end_time": "2025-07-17T12:59:06.619454Z",
     "start_time": "2025-07-17T12:59:06.616167Z"
    }
   },
   "cell_type": "code",
   "source": "vectorizer = CountVectorizer(binary = True ,tokenizer= my_tokenizer)\n",
   "id": "651a22394e37d0a7",
   "outputs": [],
   "execution_count": 81
  },
  {
   "metadata": {
    "ExecuteTime": {
     "end_time": "2025-07-17T12:59:06.742519Z",
     "start_time": "2025-07-17T12:59:06.631315Z"
    }
   },
   "cell_type": "code",
   "source": [
    "X = vectorizer.fit_transform(titles)\n",
    "# burada aldığımız hata aslında warning yani tam olarak hata değil\n",
    "# burada demek istediği sen zaten tokenizer olarak kendi tokenizerını oluşturdun\n",
    "# benim token patternimi yok sayacağım demiş"
   ],
   "id": "cb15a7465493dabf",
   "outputs": [
    {
     "name": "stderr",
     "output_type": "stream",
     "text": [
      "/Users/mehmetdegirmenci/PyCharmMiscProject/.venv/lib/python3.13/site-packages/sklearn/feature_extraction/text.py:517: UserWarning:\n",
      "\n",
      "The parameter 'token_pattern' will not be used since 'tokenizer' is not None'\n",
      "\n"
     ]
    }
   ],
   "execution_count": 82
  },
  {
   "metadata": {
    "ExecuteTime": {
     "end_time": "2025-07-17T12:59:06.749624Z",
     "start_time": "2025-07-17T12:59:06.747658Z"
    }
   },
   "cell_type": "code",
   "source": "index_word_map = vectorizer.get_feature_names_out()",
   "id": "ed65172bbfc34b52",
   "outputs": [],
   "execution_count": 83
  },
  {
   "metadata": {
    "ExecuteTime": {
     "end_time": "2025-07-17T12:59:06.765928Z",
     "start_time": "2025-07-17T12:59:06.764346Z"
    }
   },
   "cell_type": "code",
   "source": [
    "X = X.T\n",
    "# rowu terms olarak aldı , columnsu da documents olarak aldı\n",
    "# X başlangıçta:\n",
    "# satırlar = kitap başlıkları, sütunlar = kelimeler olan bir matristi.\n",
    "# .T: Transpose (matrisi döndürür)\n",
    "# Artık:\n",
    "# satırlar = kelimeler\n",
    "# sütunlar = kitap başlıkları"
   ],
   "id": "6cc944d6906ae5ed",
   "outputs": [],
   "execution_count": 84
  },
  {
   "metadata": {
    "ExecuteTime": {
     "end_time": "2025-07-17T12:59:06.810512Z",
     "start_time": "2025-07-17T12:59:06.776299Z"
    }
   },
   "cell_type": "code",
   "source": [
    "svd = TruncatedSVD(n_components=2)  #sparse matrisler için uygundur boyut indirme uygulamasıdır aslında\n",
    "\n",
    "Z= svd.fit_transform(X) # her kelimeyi 2D düzlemde bir nokta olarak belli eder\n",
    "#burada amaç yüksek boyutlu kelimleri 2 boyuta indirmek ve grafikte nokta olarak göstermek\n"
   ],
   "id": "f576e1f07279f486",
   "outputs": [],
   "execution_count": 85
  },
  {
   "metadata": {
    "ExecuteTime": {
     "end_time": "2025-07-17T12:59:07.469711Z",
     "start_time": "2025-07-17T12:59:06.821963Z"
    }
   },
   "cell_type": "code",
   "source": [
    "!pip install plotly\n",
    "# bu satır interaktif grafikler oluşturmayı sağlayan plotly kütüphanesini içerir"
   ],
   "id": "dbb3a48e3cba4ebd",
   "outputs": [
    {
     "name": "stdout",
     "output_type": "stream",
     "text": [
      "Requirement already satisfied: plotly in /Users/mehmetdegirmenci/PyCharmMiscProject/.venv/lib/python3.13/site-packages (6.2.0)\r\n",
      "Requirement already satisfied: narwhals>=1.15.1 in /Users/mehmetdegirmenci/PyCharmMiscProject/.venv/lib/python3.13/site-packages (from plotly) (1.47.0)\r\n",
      "Requirement already satisfied: packaging in /Users/mehmetdegirmenci/PyCharmMiscProject/.venv/lib/python3.13/site-packages (from plotly) (25.0)\r\n"
     ]
    }
   ],
   "execution_count": 86
  },
  {
   "metadata": {
    "ExecuteTime": {
     "end_time": "2025-07-17T12:59:07.490372Z",
     "start_time": "2025-07-17T12:59:07.486926Z"
    }
   },
   "cell_type": "code",
   "source": [
    "import plotly.express as px\n",
    "import plotly.io as pio"
   ],
   "id": "4cfb3131327b9e43",
   "outputs": [],
   "execution_count": 87
  },
  {
   "metadata": {
    "ExecuteTime": {
     "end_time": "2025-07-17T12:59:07.535098Z",
     "start_time": "2025-07-17T12:59:07.504261Z"
    }
   },
   "cell_type": "code",
   "source": [
    "fig = px.scatter(x=Z[:,0], y=Z[:,1])\n",
    "\n",
    "fig.show()\n"
   ],
   "id": "d78ff119a239706c",
   "outputs": [
    {
     "data": {
      "application/vnd.plotly.v1+json": {
       "data": [
        {
         "hovertemplate": "x=%{x}<br>y=%{y}<extra></extra>",
         "legendgroup": "",
         "marker": {
          "color": "#636efa",
          "symbol": "circle"
         },
         "mode": "markers",
         "name": "",
         "showlegend": false,
         "x": {
          "dtype": "f8",
          "bdata": "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"
         },
         "xaxis": "x",
         "y": {
          "dtype": "f8",
          "bdata": "o3rIMu4AXT+fZn5zJ+hLP/oybjBkBvu+0vyQKk5BVb/mMGw0jT6IP6zOSotU/Du/nysMzYtvWb+yTyiwinhkv4tGYoHWRXG/7ARVk+MiXb9et+pjqHrxvl2jC2RbTjq/FyK+1VLNTb+L5seTWoc0P1QNbdaHPIE/f0p+JS0tTD++RBvR/ZhvP60/LVl+SYi/GeerYtumQL+vB6zZUTxFv5i2Yahnr5K/JuBbnPS9O797Jy3jcg0LvwjgUUYfLG2/bRaLbMvxOr+RWP5H4wNePwattwAt8Vo/zaUtiW60ZD9cloe1pR/Av4Jq62b7DWm//q/e0L3idT+SFtJeUl9hv99gyJ8hPko/fkT/lTXmoz8hxZya37A8P0R9X1bDATI/qA/1U2HVI78M6FuI+tc9P4BmOnRoVk6/gNAZAM0AHr9x/EA6/WBnv77vcak7jbE/1hJ1Yp36rD+ntGfe74XDP+2dw3ypwWu/Ivlt212Kgr93CbRs4G8qP7Wanbn5CFE/wlo7/HtOwj+BxpyGegPFP/eqhABo9XQ/aCMOZU/Vcz9WNtN9v1V1PzunbmjdivI/Sy6GFrUplr9IdwpvsNxRv0jG2YIJloA/2BIHEMUplL/5dDEXSHsGP4xHkfyXzUM/9T9zr+lDK783K430XXRCP6mBCV7ctm8/eDckwfPoSj9WkoQuoO8jP8oeRCybq6q/yidF0EhxXL/g3/A8hiiAvwqXbe3N4TE/5qWRNbZYU783K430XXRCPwjh69i1kka/QotHY5TuPD+uuGjjUwNWPzfTXdMkrBu/J8SBXukqUr9nGRsTg3Fyv1JhteqLOXE/5vlOQqB6Az9LLoYWtSmWv0rapJqsa/I/7ZjYPwtS+z+QT9OpvaF/PxNbOfE2LkO/9tKwLPrEZ7+Syfn6OFXLv66VJm3JpVI/KS6BuL7gL79gDF6AwmiQv8Zml+xpMa6/XFgYIWdBxD9XAx8+S/hGv9zg9jjS330/Tw8AhAAJPT/+q5XuS8+wP5W1DYWdPjm/BHPSkbzPWz98WKPrry65PyILvhP5KAm/Lt68IM6zOL8M7y8V3oc7v9Wl7Z/kSIs/gCPRsImMxD/wjiYJO3K6P8g3jWIaO3M/GcpAnAifqj9StyA6OqQ/P+IBOSbrx2G/5qWRNbZYU7/pFUiqNkIwP3pe0FMI28O/cNEeby0fdj87+581Xd4pP5bz10RqlHA/8UVkUC9Hgz80o5JiUfyQv8fI3U6yBX4/1Hu1OE6tQL9CgN4dAVmIPxsfV5LcUXk/++yp3Wn9wj+2EE2Fns5LPz274FjUdWY/NG1u1zWYoL9N72KywFdpP0/B8Nf+qmI/4Tqzyup4cT++2t0jeG9BP9PeKZidZIU/ACWlCCdVGEBKTk8MRqczP2AUy7glfac/aCMOZU/Vcz+o2dUsLtOlP5CJmC7wU8M/GXuGHBCwQD84FzpOnptOPwmUYUs2gmg/4FapSAdnd78s46mOJIOBv0hGiqnSzTq/DOhbiPrXPT86tjMODWWSPyfEgV7pKlK/qQ2VMtJitT+udavv4cxnP8rq2jZF8kU/U34JeINMgz8oxyRstomNv2Kx2DfRbnK/Ood08oS6XD+MI56HdhcsP1HSvm2X4XY/nEjZM96nbj9+RP+VNeajPzZVgJiPF1O/iYZstVp/sz9UDW3WhzyBP7FCIZwMVUk/iJ59QDwvYj9SyaRdArlwP3DRHm8tH3Y/FIBDEw2kYL83K430XXRCP0UFEbOZSLE/vZYt265GXj8RjCxTVCJkPxbz+6VD9Ja/dNFJrGyZZT/JOEhFHnsivzkCvjSUtl6/ZSCka2zzlb8mFjOnhEdlPyzjhxd5D1O/j3BtTcWFcj/nAfjttsOkPwiGIOeLuVW/BHPSkbzPWz9p+3pByrWuP2sV+0jzbVq/VpKELqDvIz8tiw021i26P0gRw0jYTH0/PW4rzf5M6j5DeQMB+LBiPx46s03PUZA/mwmlbIMbgj8RQcpTZIuIv2eRoJnFfbS/2MBFQ+HIar90SGMhQkSNP0tFHKEXZrE/u+XxRsnxYb+6LpaXXT03v7llK+ghGCS/OR7TtBwphT9rn6VyXWZHP90x69bbeqQ/5rLVF+UwV71goBprSDZ3P2gjDmVP1XM/VL4wuXH5bT8//j3vvX58PzMimkWJd3o/VE++eww2G78T/jwyBGuYv58AT4PAknG/xqAt4g83l78oX7g1M/xWvy0bloFT/Xg/stuk+F/ep7/qNitWdscvP3rrcJKqFqi/2/ad6I7PNL9MpHtXNmzPv4YLq9C9bZW/2yeBY2ixgD/egLqA4qKzP5jFAzgxnEK/zrPreMUPrz+IDJnXN9S2P+W5liNjR5a/HjtfgoR1JD/UrbCNkVN9P3g+SU9+yF4/RRUGLVGlX7/jBsR70EjyP8g5VshrubY/u+b34wwpcj+xQiGcDFVJP1DzGyzqhWg/TnHYxPcQWD9znr4wOS9xPzOZ+zbsSVK/f0qS+VJMUT81Dri4BqdqP/oVTsADCo4/TvCmn1Dzsz8BSWTkOedVv54AEmJEsOg+eyiXVXhXTb80oJ9JrwpZv3pInXjU2ds/8tYNKxfPaT8nNNBMWKZiv8bh0HSfj2C/iz0jsl2oVT9D9IyZxFmAv/aUxFB6mKm/iP/Fm5zLnr8PJNyCZ052P7vWSpCuuM+/U+CF0pNmKT+7uEOSonqBP/bcQ1T5rIA/FONhHtBgwD+RBqEbB3FZP1GRORTU+4W/B4nJbS+fVT+5AN8sW4RZv/sWlgHBUGo/a5+lcl1mRz9k9eJY1WU0v12jC2RbTjq/3AFjaG5JbL+wN8L2qxNoPzSIl9yXjZU/VpKELqDvIz88yakOmBKzP2CCuo73HWE/wh16oYsizj+JHVeb+RezP63z3Qik25g/QhhtiCR9d7++RBvR/ZhvP75EG9H9mG8/8R0YV3/rYj+XbcjfscBQP7pq2HHBHFK/nxhs+Zeqmr8dTryB76gVP7r6WcYKNow/B5VkABvUgT/S/JAqTkFVv8H9Gh/Bl60/5jO0GDnoO78NPxh/9Ox4P4PQXF5rDrS/yVoW0vUyYb+H3FH9Uwm9P35E/5U15qM/DOhbiPrXPT+hYwKoXymYv9yRlC+NQ58/8JfzAo4omz9HoeIoYQtdP5q/Bjl4fZk/sgXCMyVuCz8kqIfMBpKlvw4yOYMhoQU/9E3GXTP2gL8YVbz5ViyAv49wbU3FhXI/sgrAqTWlrr/+RME4WSzMvxv7jmJsf0Q/dESGxMslgD/HyN1OsgV+P0hOJUxPs5A/miXaVP88hj/Y5jdViGgEv4cb6QISa4Q/NwVgUWTmsL85YinyCOVsPyNmVenZJ70/v/8NbhFvyj8m4Fuc9L07v75EG9H9mG8/ZisAcHUhwz9srHlEefhtP4QpOzlKwqK/74tPYKQRcz8eO1+ChHUkP664aONTA1Y/19iY95mUYD89u+BY1HVmP01OMd/YinK/B1/3h93jkb9mgmIsZVTBP2eie5mC0ye/fKeJCidBQL/Yzz+pwyioP64brRTPaJm/HzDIul0FkT9oIw5lT9VzP4oEIRfxH1q/XYaYsVF5Sr9LmePuprljv5tLmv9Fi6i/qXaR4DzJQj/D0O3Qisdjv9fFUXkOX5q/t5ZC9ljVaL9OcdjE9xBYP68HrNlRPEW/fkT/lTXmoz//eL6mmayiv0tFHKEXZrE/XrBqilJMlT9lzrGI/9RsP2XOsYj/1Gw/4GMm9uUUej+H77Iaxec7Pxlw0kMKpLw/JBzRo4LlQj/pfSw0fytaP5EGoRsHcVk/BNAqIPXJlD9dx/PQkmhiv+ba3tyEqFU/7oGAzGHNgD8x+hpko/Bnv+hUzP3Q/nc/3xru8JTLVr8BW0iiSYegPx6nyQmdrGI/Pw7DUSu2d7/AnoheABcLv3J1RgnGBTW/XibGP57JfT9jae9+pFx4P0RjOLWb7Bu/YXOIxrWqYb9qqJAdOPJhv+KrGJf8jQi/u1w7mF7AYb80hGipRU5lv7bjtN5d8K6/8U1jWcdn6b+QYSt+B60+v3LQGAx+aJy/xZ8fuJu/mb+D69JaEXOTv/lNXx8aNus/PYN1m0UOmb+yAaUdTKxqP7qniT6JhXi/jquW6W1JfT9vi2hofXdsP+RMO2t/0JI/P/49771+fD/YucrLqnSnP1clSUDIUJC/+fqjybhckL/SW16N2lOSv2k6Y64Ekjc/s6YwVLsVZj89u+BY1HVmP2D555qsejE/sqQ//qzFfz/CrRCF+qOzP1K3IDo6pD8/XnbyK/OBSj900UmsbJllP7rDwnZ115Y/KCBMTQp8nL+o6OQxtscfvxPDlxUNlLo/J3HOBkHQar/83M3jcL+aP3Y7BMSY7Uw/G/uOYmx/RD9d9mPJLXSgv5JWV93IO2Q/qn9QpaTVaT8fAvVs8Rhuv1A7rtzZ7+y+cknMmvNGVr96Tce2vB1RP+1zMQN8ulc/pZrKgREBEL+P09Ws0iIZPzOZ+zbsSVK/poK31lS7dD9cSUsIm6KTP0AiZwIx92G/d4xC5tW9gj9TbqRTnQgwP77a3SN4b0E/hbZgcYcYRj/0PFOfZuwwP0GA0zio6mm/XwWdlrfzVz/ugC2ppjl0v2ufpXJdZkc/hxvpAhJrhD9SZhKPdCZVvxsRJzkbzbg/e3QjWgI60j9JEhSQmWiVv+yvkMB5+bg/cFdXbEn9Vb9PNh+5VTVTv3xYo+uvLrk/LZjxsF/iSz9dUwSqU3l7Pyi3Ojs/RSw/4L2wCwj2p79Y5AF++HdkP1WOdxrEa5O/zgej8RPaOT9BAPZAXFVfv+mWT0p5aTk/+xaWAcFQaj8ELhI1fpi8Px61BHPxa2s/eFHacI8pej/0MYxAFfh9PyigB8E6Fx4/g9G2/y4UXD+ew+Qs1OJfP/Mcg8CBB1C/VpKELqDvIz/X2Jj3mZRgP3snLeNyDQu//jHy+47K2D9jGBnRauJyv9XX7Bu2ats/u+XxRsnxYb+jR0GBVhFgv0KLE43Yg02/hK8YUrSWjb9AMurkOX8hP7bsDAIp2XO/nOLZdykVdb9Yn/jHC/xXv/QxjEAV+H0/1Ryd5rjOUb+Hf2uWzvFhv0c8QiYNrdg/p9V2pQ4ycj+B/Ht74+Gzv4z4x9tK5XQ/MztSIZTKhz+LGhE7u0FkP5zQh6MigG0/yDeNYho7cz8LQxDH8+Sxv6uGRhkHXQ2/vDu6RnTFMj/tMdH8viBlPxGMLFNUImQ/nEjZM96nbj/EOGwy6nVMvzUOuLgGp2o/+WH6G1QZTz/gEZuu8vU0v4fvshrF5zs/OChwHpAadb+fWQwWDYRQPzOZ+zbsSVK/bk/mdZlaU79PDwCEAAk9P6igeFd3k0u/O/ufNV3eKT+2DYwcTbSIvz274FjUdWY/bYM2GpcWjb/YQHFz3SCKPxylkv2+xVm/l+FvnmYrS78u3rwgzrM4v/ntaZWsz1k/SpkkGl8LPb+3yAb4K5N5Pzz9qF/nXoG/x8jdTrIFfj9/rHTSBwLJPnNf88YLOUI/Y/DtxeO/Vj+zeOOy18qav/EdGFd/62I/2Ub8Y7GVVb8iU6+wqTBbP+mBTbCMi9E/iHRg71nYqL14dDH5EV6FPwUfjRdnC3M/m4KwkpOhJz+LYlMAUoaQP7fLxySKvYG/S5nj7qa5Y7+KubIndLG2PycHY/b9LTa9iT5KACQZKr/0MYxAFfh9P4gozkS9CFQ/eFHacI8pej8MCOGiWpmUPwVLV0j6Hbk/Agbpv1qFRD/IN41iGjtzPzr17YybsFy/aa0QPYYAqb+oSBH/YfxcP+1em1aW34k/swgAZIKJcj9gQHAjcdkaPx5MW3NydHG/5ZISeuiOlb9CPPbjNiZXv59ZDBYNhFA/61xOyGm5J7/sBFWT4yJdv27wQwv6R4Q/YxgZ0Wricr+ue2ENd2KrP4saETu7QWQ/9DGMQBX4fT/H12hpax8+vwBHl6NsPls/Uk59dLPZzD8BRMgq/vqOvyCZN/2pX1o/NQ64uAanaj+/iUCH8UuAPx1OvIHvqBU/kQahGwdxWT8MmOb5mLyfPwpFvMp1d5Y/oY+YyIDl0j6ccFSkamxsv1aShC6g7yM/mTFYWCUUWD9R9Z2hibl/PzzJqQ6YErM/WDKWOj9Nmr9SBk2m5ZeYv0BYKfZxuFe/WEDQIOhK9r7vODP6bVzevjxnVEVzVp8/26YyN+cvRD0IVxiva+iSP0pOTwxGpzM/L1GV0QAMhT8Zz+xfQaDivxPzR/z4kL8/hjMx4TsQuj+RZ9HR4ayzvx5MW3NydHG/ZgRtKz3/ez9Gl90nXQhIvcoN9nk4/n0/JbwmehRyfj+Xx12KVp5AP5QYWoeXnl+/UwFzj54TxL8kYQHVUuGSPwa73PFmFPY+OR7TtBwphT8Zw6h6f2GuP1TeLQeSMmo/FOTxn8OnSj+eveEindKjP02Z5ivmez+/FHgyP2WTYz+kDQHpPHc9P5CR2D8FPU+/FYL01XRlXz8yfS77TWGxP2Z8O+olgIW/zLs98iPhQD9x1EymB5lkv0GBtMAwoZy/BR+NF2cLcz97YpDfPV6Uvc+VoGqRLpo/k8WauBrEsj+ceeRAACJ2v+4JX9bqfoe/MkevJI59kr/eUTtZ+aqLP1BBqy3vPJI/PMmpDpgSsz8jCpTx10d7P0S++/pkOFc/9BAQCdBzJb8ULiWEz/tQv334GvytflE/TU4x39iKcr/pfSw0fytaPy3RWPxUEpa/A+dE+6RTMD+eABJiRLDoPofvshrF5zs/52Z2+U7XmD9qECsmItOIPxTk8Z/Dp0o/NPvA9SggMz9GABWbXvGnvz/VeR/gsdS/mgl3w+V4tD/LzhQ/Uj2zPw0VKTIVAWI/dXTT8BbxaD/+q5XuS8+wP6+/av+x32U/0mLWzizXOL8c4TnOqiEpv9LPw54xViO//E7jnzYhoz8wTKKFFi/CvySMN5FzKWM/Sy6GFrUplr/xf5RwqrYxP0TNekJdMHy/xx3vpcobRL/Vpe2f5EiLP0AiZwIx92G/iMqdqylJEr82ZRpS4kpPv6NSaW2Jz24/OE09hnbttT8lHPRITAVBP1V9fRri0R2/aDXFyw20Ob882uAXJOiGv/QxjEAV+H0/WwjgDcsvU7+ewrJkaPyvP7wPBEWXWKk/NmUaUuJKT7832rWtePuSP0HUnBVJdo8/Te9issBXaT8dTryB76gVP2lkEtwPZmO/qLocyXbbmL82ZRpS4kpPv7QkqADmGlo/9LIxE/tfdj8tMYBiLowZP0oI6MgLzZe/De19tTefj78ozbf6RYmuP6Qv2DPBPr4/wKNiiA5HdL8KGdIF+fxpv68rU8/CllC/JArDBK6rrL8iU6+wqTBbP8QUfpesz1k/n1kMFg2EUD8wmZG3mTOXv0qxz1Ad5rg/olxfyhXZtT8iDJtGoR2YP+ePSRle3Yq/7ARVk+MiXb9EfV9WwwEyP/U5BOVS/kW/nuF1ibIbOj9QQast7zySP4bu7W/YGUE/wVLH6rv/sD9gFMu4JX2nP9OrqXQzOCM/p9ECvKvxCr88yakOmBKzP2oQKyYi04g/EGBOIcNBWz/K6to2RfJFP/6rle5Lz7A/XyXtcyqUbz+8w/VrEXW4Pz/+Pe+9fnw/0WWY5h7UVr+fioLEaFqwP/mDsoVEF0K/M5n7NuxJUr+YqtSh0W1yP30osUW3ItM/OqTrxLusTD+51jMg34/5Pjke07QcKYU/kzIDpiQ0bj8Gkfa0qTB4P7fKX9hbWYG/vFs8qZw6Y79KTk8MRqczP27wQwv6R4Q/2MKV0iKC4T8qHunm8P56v0ElUDl8XLC/a5+lcl1mRz9dSKty2LFlv7ev/AWadFa/t6/8BZp0Vr/n/F4c7Zi4P07jpzrkLp+/OEZmsHheP79JvgZO/JpGvweJyW0vn1U/uvpZxgo2jD88zDbKSfivPwYHhoXzfyQ/byQUa2fkL79OKjmADjyHP7cGV7CR6ni/xx3vpcobRL/6pPVBRO1Wv7C4nQztqjS/wKDIqlRubb9dVwbXxyTDvzNMvwpow4y/NaSTN4kBdz9WjChRiTddv8bh0HSfj2C/U34JeINMgz+UgCFfgplVv4DZOiuROXM/2bwulvrzgb9HoeIoYQtdP1tZxm20XlM/ucg6jjCOw7+b4BLXGbRmP39KfiUtLUw/6sU6PU/nRr80JkmHhucxP9j+KiYMfaC/CA8DFzOgNT9+6TrvWONcPx/GTE08kLw/iJ59QDwvYj+jFlbmI2hMP0jpW0SbRio/GXuGHBCwQD+b4BLXGbRmP5SGMdbV+3G/g5dXaG8FbD/bnUWKiZGNv8JDPoSnSmg/J+VwMe7xir9B0QcxEA5JP3Sz+cxnjWg/VAXpKpb2cD+HxOUIPeWNvzKCxz1ru2O/J9JQ8npVX7+ZvtJGtOJeP63KCSBVKac/FHZ/W10aUz+Dl1dobwVsP35E/5U15qM/eKnBcDrZZb/QTHhDuDjxP0gS/a1CvlY/bvBDC/pHhD9Q81b2taw2Py7khR6hULM/MsLC6q47Yr+kDQHpPHc9P5F8oMzrUH6/tbMB3xsFoL8BPhAkPUxzv8Bt+/g5b2e/UsbJZZHvU7/+RPgY5aZxvwKRFpJgjEa/d6/egk9UYz+R+s9kTySkPwt8Su/HvUC/KVoblasKuz/L47r8AqWUv738+XN71ri/W9ioosKoY7/jou7M+shBv/QxjEAV+H0/HU68ge+oFT9chnG7jk+RP559yPJCk4I/uPTZskUUAT+CFlUSAU/LP3Sz+cxnjWg/an0XThBD9j/qbO/LmpGWP7rX6NsGSoI/SBHDSNhMfT97X+zZ4XaBP49MEXFUpq+/uPTZskUUAT8C8U7mNqQZvwv6kaY67pO/2AnpffCuDr/t35GmOu6Tv5q51yEtFGQ/wHpa9zbjfz903gVLUdaHP1iSOf9mzq4/mmXt7IxfZ7/56maIk69RP751p9106Cu/OhAoegtAgj8/xyivHdhWv9TJaqT7O9U/Gh5kkN7ifT8GBpJtxtY1v0x13/UU/Ay/IWgmzqFoPj9AclFZk9FBvy8/rac7zQw/rcvEal4bbj/4MlCxFRf+vkpOTwxGpzM/nKl3nEPzjT/SYtbOLNc4vz9yUQldVVu/zmeFAiqPKL87I6IU7Zqyv/RNxl0z9oC/cF78lDkVhb9YXQXs8B5YPx5MW3NydHG/Q3vnL9fXNT+zWcjoz6F5vwIGoQ/JwZe/F+PDHYpOar9dOWH2MYdTv3axkCr1o20/Wy8+F0hPTL9/MyQRNeoTP8QkVOLwEIY/dEhjIUJEjT9oIw5lT9VzP4olZiCI3Kq/szTGYSlwWj+O/i+R6lh/P6OuihVkMGi/L+H0/yraWT/IG/hqDd4+v8hnwRyJhAE/SpkkGl8LPb+HtHnUs25OP7xa90jWgow/jXM3v5Zjfz+WKmgenBViP8UXYFt+KDy/NxM8fn1+hz/FvjZCU75gv7PtxMXVC60/djvTUu9Qhz8zTB6mBmiCP/tmRHby0L4/EQnotY89JECYqtSh0W1yPw0/GH/07Hg/kfrPZE8kpD8Orz1d6axQv0SrbumBsIc/cHhQ0DSNWr+bCaVsgxuCP+ZCkAZxtmC/g5dXaG8FbD92O9NS71CHP5694SKd0qM/XFvYAZbaYb9tadK5WMMNP+ba3tyEqFU/1eRMB+5kY7+ui6Nt29SwPyFzQoGQv38/LoViZ9zbfz/0MYxAFfh9P+ba3tyEqFU/F1u7pMrXlL9PTcR0H6xQv2xbuDOu0me/NQ64uAanaj+FcglrCsOSPwPdxGoN3j6/3AO3EDmXpj+B3czDe+5LP3TyOESZKV0/Wc7SEQ1gnL8IgIDD+Nd7P1o353JaZZQ/Te9issBXaT/1NbjgM6JIP9PeKZidZIU/z3qvD2eYSL9onxZwCd2SvyAaPhnbfv2++r8nVFo4Tr96oMX1/LYyv1jVP2CrRnE/Ig6rJyTedD90s/nMZ41oP1H1naGJuX8/1Hu1OE6tQL9fcP3smnZmv0m+Bk78mka/tZqdufkIUT9oIw5lT9VzP2HT5ef9CmI/GnBADGvJcD8Gu9zxZhT2PtR8e3Voe1U/AAIL2Ax/QD+xe1QijiRVP5pJXpI57GM/WTQmhKDeYr/RJtyDSDRtPyb/nMAGZnC/xqG0qh5ySL+n0QK8q/EKv98a7vCUy1a/mn5ISmTyVL9kNTCyGKOTvyZZGbJiLvy+Ov8sasnXX7/oN/Owybdyvzp+uK3spJA/yibaLJctuz984LUKy8gQPx5FaHiqfDc/ueJBgy8tPb9LmePuprljv5NhkppP3JC/I4iQ0PlcOb+SArb8l80zPxfjwx2KTmq/WgZxRTQ5cr+C6Aq5epRaPziYBJWYTSO/fOOht4InND9ikae3J8tAv3CQ/w816hM/2k7kt2CtMr/zKLjLRSAbvwJ6VlUodkG/HOFOhNMzPL+zOYclcQS5P0ZdXbXOope/jlYFAL0BP7/sqoIioUp0P5HVkr0NcGe/JfuoNMcaP7/BeQFTSyzDv1q81/X9aHE/YozbpFChn79XubSFx53APweIG9L1pcI/Q7Hf4mNDer8ip1lopg1Ev3Sz+cxnjWg/KVQmIyC8ij+OGmcmmAm1vxBgTiHDQVs/SxlwB60lk7+D5NKEAKqiv5SHxF9BmqS/sKJwjSZUnr/Am7aVCmCOv3TRSaxsmWU/vFr3SNaCjD8haCbOoWg+P8lfn4kVrc0/DG4umiUAoD886Xd0iP5Qv5DBL1+Sq7Y/7K+QwHn5uD/QDzYarJRzv+z18VPsQOE/+N6LVsiAgD+PcG1NxYVyP0pWzBNun6S/a5+lcl1mRz886Xd0iP5Qv3V00/AW8Wg/NPvA9SggMz/pAQTw63t5P0KW5XZemKk/eFHacI8pej8nNNBMWKZiv75EG9H9mG8/POl3dIj+UL8b+45ibH9EPzXOQHlsbm4/JnKXy8YKij8QYE4hw0FbP7jnWB1+/KU/+e1plazPWT9TKEE4C+jZPwqHm+kx1W+/287wa5k/ZD8yhpjUuXWAv/lh+htUGU8/hMta6CaOk79fNoHAJK4TP9APNhqslHO/gtgGtUQkgD+GWydDdGhXv1vCXZcL93E/fkT/lTXmoz8wxTkYdGgbvzsCQ2egHiC/NlWAmI8XU78UTerpu0Agv4CAnvRfPQM/l3ma5DWhfz9P54MPVno3v4LSR7NFViu/fKeJCidBQL/QDzYarJRzv4j1rTA/PV0/b7D24PDKpr9r2EXHfVaRP5OxRcMCF62/RwAAQwnzdL89OkWEH7pvP4Ia/bw93Y8/LlpThtQgn7/MqRroXPB+PzOZ+zbsSVK/dLP5zGeNaD94b+/cycy6P7cgXgl60d0/Tjf6q1vlsj8eEcyJybhBv6J0HqQm5ng/sL7oqv7eaj+aMMmpODxhP3BiTcWpHJY/91DK/b67Dr8GB4aF838kP9WZc9Kl2/A+9AkbctgPsD/62V5MGiddv6TEvnvaY3o/SkIjjZvDk7867jHiV5KFPw19vOMXCF2/Gh5kkN7ifT+9XkPGig5Qv4IWVRIBT8s/TzYfuVU1U7/wzAU7YzUtP9hdOii0LdC/uCC2KMR3Ur+4v5WRbMFIv6+/av+x32U/Mc1j2YVZEj8NbbNUmnc/v6+/av+x32U/38sJfMZVpb8Cu/YGxEazP2MYGdFq4nK/Lmvf+F4pkz8qbdl+4qYgP8YC+bCi3II/fFij668uuT+Orq/z07pkP4HdzMN77ks/Tf1wVGb80z/LLFjllvakPwkg+AFr46y/MFJZLZVNHL+5wXu3Z0mSv82lLYlutGQ/0WURrSMmfb+6HGhtfgR8v+RGrdnATbg/sL7oqv7eaj+Yc7PQWZCCP6Tezc7HY1o/g/mVYsR9U7+ADVuUKZWIP9IAhZL8jQi/lYUcJQ6qLz+X4W+eZitLv0f8i9QDY4m/uvpZxgo2jD/QEcdCdfaOP1C25546eT+/ECOYEpZfjT++Cvw8+4KNPwBHl6NsPls/2TEZxqtojD85hJpT+tjDP4DQ6cp1g6E/nEVYJRV7Zj++6kr3XHA2P47oyx+qFJ+/ikjzOxyib7/75gR7mNy5v1JSgJDX2hc/JhYzp4RHZT9syBDZfEy+v7rYYWR4uVg/dLP5zGeNaD9sWd3QUnNmv/DMBTtjNS0/i8deYlVlgr8VI45+kneSP6FjAqhfKZi/5tre3ISoVT90s/nMZ41oP/BtxGOpFlS/zL5aL6+NSD+jPGiwPdCNv2bWfqy+qnC/7L2MmYuEhT/Sc9qEUT1+vyLO+EcMoXm/4JnCLmMflL+KBBmOMtdXv00QDsTNoI8/4CQAXo7Xqb/TQ4cA3YQgvzlhlK3s3ga/QDLq5Dl/IT/gEZuu8vU0v0nZac8ei46/+fETh8pMl7+TfAZ4FQW7v2IJwZ7Assa/kVALXrXeRb+4v5WRbMFIv5IrzhH/DYe/zrPreMUPrz82VYCYjxdTv5ypd5xD840/mQvAF6eyOL80JkmHhucxP/sukFPmeom/CHe+Q8OKmL/LbiOFdJw6vxALG+woKm2/2EDeSsvJQD/kITHLHV68PzQeMK4Mb3u/BQ+yUQW6Lr9MWJ9h79piv0pjdGdeImG/uQDfLFuEWb+LGhE7u0FkP/rwQ+kWEo0/uP5RSmTyVL/36/myO0Giv/F/lHCqtjE/nsYOHAM/sT89OkWEH7pvP5x3LYZdSsQ/5XYs2Zpprj+ocs2lMfGQP8xUmyAqsmq/ek3HtrwdUT8qspVqzpaaPzliKfII5Ww/4hqf4e2Ay7+4huxRFLpLv2cQXVPUsju/ui6Wl109N7+6LpaXXT03v67zYxe/CIW/Z5ANH3hCl79Tvn5KbVL7vlTYDFO884A/p9ECvKvxCr/rd2jw3plivwaaIGaDe3y/xChr8N6ZYr8BSWTkOedVv++P+mEpiII/ChnSBfn8ab/vi09gpBFzP0pOTwxGpzM/pVvf56JAfT+UhjHW1ftxv3fB4pVHmoQ/P7TNRqy+dj+RBqEbB3FZP6wbeioUIXe/dNFJrGyZZT8hc0KBkL9/Pz8c1Tyu9lQ/MYsqb1dZhL/NgxdciuAxvxK2hF3xC7O/ted7s6AEl7/yGtB7kePmP1ySbjbifHk/AnpWVSh2Qb9sA9alZ6OOP0xiVSv7wKS/fFij668uuT+YqtSh0W1yP+R3jCM0PFq/OC6PygpYbL+85298vhFgP9jH/eH+WhY/jK8QGtUCaj82uy6s+U9kPwu+zK3RcXQ/KpPP3KN5fz8PT/cnUU97P4TLWugmjpO/lPgHyPnuHb94Qi711xMJP6BDWP3fWjk/iQwVQbZBSD9B0QcxEA5JPzUOuLgGp2o/WCQzxRxKQb8XW7ukyteUv0WdpjapQXK/Vh3zAyp6jT8kjDeRcyljPx1OvIHvqBU/T49s3z+kY79bZX/gE1s1P3pNx7a8HVE/2OY3VYhoBL9R9Z2hibl/P3NSrOMtRmu/BgeGhfN/JD8lc3wFew2vP8crka6kyrA/EYwsU1QiZD+7vKmV/XBwP2oQKyYi04g/8R0YV3/rYj+f4VXpq56IP9+d621vZO4/JTFb33qwbz8+28O260A+PwWCibu1UF0/S5nj7qa5Y784p1Rqjf5fP/IH4RJP14Y/6Yv0k6W5XT9LV6awJe4Pv7DVIxrnkt6+L4RFrezeBr8TSXuONiGfv/Qpk3MjEUO/3xyy+IFckz/K4GiyhFfDP4Gsp1KULnU/d2WF1uB8Tr+pNNOvE6BrvwAXZV8ae2k/x5WTnTKpYD8z3WxVaflrP5xwVKRqbGy/SnpeAqkv3z9QGM/TIDjOPwYHhoXzfyQ/Y4gVvJvzsr+fDkikmIdWv1hdBezwHlg/eyXhJ2sXiz8UTerpu0Agv49wbU3FhXI/E0pBT+pXk7/IJAjohYK7v8DRMcdpoTc/MSQEONeYor8ipwQDdNxXv5LOGWJTKkO/qIqsmGcCIj/oI9sYuaToPxGMLFNUImQ/c2gJs+8QgT83poq08qO4P0GbwMs+uto/WX5YjRCTjz+O/QjnIjhjv3u7ktpbpma/vQuYGuFCMb8KtnUNzvzzvhiM67mz33i/1PIM9fUdXb8fm0Mg4XVePw3gzHZGc7A/e3R7cSE1GT8KV2bwjbu+Px1OvIHvqBU/zeSm+IJRUr/jB5QtaZiHvy7ImNzSukW/A855vkUpZb/jGU14X1CXv2ZMKNHXfTQ/8i0zO0H2tD9gHeGUA4yJv8fJehK76Ei/RUyLsvrdTj8SKZ6iNA6wPzOCbE94pYO/ciaReBtmZ78QYE4hw0FbP9MSWyQE3EY/UjodnZJgQD8M6FuI+tc9P0KLR2OU7jw/PHiiwWjmMr9TK8jibSlIv79iOt2izl+/vzzCNQGaPr++RBvR/ZhvP/54qXstHC2/YrPpTk8yRL/SroIG5vXDP4HikeEfNbI/xJXKHhb6+j7TJkeBez5gPxYsQpkURIA/JsJNXZGil79Gs5VzpOFQvy9E1ZSIFXq/7qR9SHS2Xj8kvICQFDJTP6l2keA8yUI/Bi3LbcX2bT8//j3vvX58P3voWnzyB6y/9BCfQiNTvr8PORqCT8mIv6NSaW2Jz24/CLN3HjcJiD8j3DJpSpR+Pxfjwx2KTmq/BHPSkbzPWz8DWJsnE5g1Pxfjwx2KTmq/HKWS/b7FWb+uuGjjUwNWP5WMPCObNkI/jh+RLZkWp78cpZL9vsVZv/pbtniojas/kxeRlGmxkD9PDwCEAAk9PzUOuLgGp2o/MkevJI59kr8t7lX/XRK6P9u6YW1Q/sk/dXTT8BbxaD+I9a0wPz1dPxczrHQ4ZYa/wx8AlrBShL/qxTo9T+dGvz274FjUdWY/yV+yxNocYD94Udpwjyl6PwgIKLI5zoA/tCSoAOYaWj+BYTlL2DGZP2Re8Cx/ikS/P8JyqXF8F78uEtX0e/J4P6IYaHp6Pkq/vo1wQKj8NL8kKZOKXsM/Pz/HKK8d2Fa/kPPYFriXFD98U6JhAz9+PyhBoox3mCo/H5tDIOF1Xj9YXQXs8B5YP9HscQbcP7E/KJ5bZD54cD8n0lDyelVfv52QWzmERc8/nOKt8u4fOT+USGMZLTG1PyieW2Q+eHA/IWGgwvvYwT93ZYXW4HxOv+MRT1H0HBu/uHQbDboqsD8m4Fuc9L07v+qW/yk+EjI/ojlmKciicT+Bzn4tzqiwPyZZGbJiLvy+LsiY3NK6Rb/jEU9R9Bwbv7j02bJFFAE/Aot/1GRllL9ej5IlsOGCvn1IUNDO0Rk/DvTFM5mikr/IZ8EciYQBP1tZxm20XlM/q2Pu7X/4vD/Ue7U4Tq1Av/HRn1ezOks/JhYzp4RHZT/TsMqf08F2P1LMsV0/Crs/h92I1pCCVT/BoGr6Wrn8vigBXjWfQYQ/9fQ65J9Ux79/RgUfrTAsv03i1vQELrO/74hj1GorA7/FFK94KeKCP7nWMyDfj/k+vgr8PPuCjT/Y5jdViGgEvwieEWJ3vYI/V7FRb4RHsD8mIB5WsiRlP8TUGnk6XLe/PbvgWNR1Zj+7NEJyW++Bv71ijYY2L3q/VA1t1oc8gT92sJTGHSFCPwrJc23bTJq/gk276nvUTb+wDESlYu1jv5MyA6YkNG4/9DGMQBX4fT/d3vvypSt5P9TNCTX2oJu/n30T5zRV3b8stRpXn4qXv/q/GKicKoA/vkQb0f2Ybz8K49t9hI+VP1WF5nFL0S6/sXtUIo4kVT+tU52UOSPbP9FlmOYe1Fa/0xfEqmwaVz8+koRjTepRv9pToFTPMDW/IBo+Gdt+/b58WKPrry65P/QxjEAV+H0/6X0sNH8rWj8dTryB76gVPzEx8TwRzqm/tBDyvRMYt79OkpndYV1xv1sKFVq1abE/LXTjRA5/X78EWdlI8+FQP7R5xdNQA3c/3JqdGP1Sf7/d3vvypSt5P1H1naGJuX8/2qZ/EOJhIb98WKPrry65P+ndeyLtaoA/A1ibJxOYNT/vuIuyD2D/vpiq1KHRbXI/ct18oJctsr+hOu0REzp4v+bFQq8gNGC/H5WR9tN8sD8ofGiiQQIQv9jWVWabB58/kmZXELQ0dr9dct46Q/dKv5QxHOxf3GW/Ck49AWw9dD9DMDUgX+a1v0gVLbI4Ske/mw0qFw2BPj+FPeOQ6c1Zv4bxOwQV55W/CFYc3Qxg1r/0yTTXtGDEP/ciTVbOr4Q/MkevJI59kr+awCarNQFtvzZVgJiPF1O/aMKxHR+8gb9SZR2JR0ewv2oJhpMZRrC/POl3dIj+UL9dUwSqU3l7PzlPjqWTwFE/BeuXbU+tcr+vv2r/sd9lP93e+/KlK3k/QDLq5Dl/IT/5aYrLiVF9P0vJIsPliVA/WGAISgWZQb93o5xACImZv/U1uOAzokg/+IZBqZ1WEz9YYAhKBZlBv4owQPAYarI/OnE85UY3Xz++RBvR/ZhvP4saETu7QWQ/u7hDkqJ6gT+1dJReJpQgP3OevjA5L3E/sXtUIo4kVT8XIr7VUs1Nv9Xc9prReXG/1qYaRou4Nr9rreUaTxOMv0kRCQcUMxi/a1Fp4CYVW78U2N0ESm2lvwu+zK3RcXQ/rwes2VE8Rb/88u+dkuGRv5F4P0e2ksw/x9tJT4QzfT8r8liMsEuQvwD4kHsWgRi/3d778qUreT/B1ONTKt5pv3tikN89XpS94lEYgYwlmr/ZUFGCkJSHP19xuWGwdUW/M8IBqOpUpr9txQzd7ZiHvyIOqyck3nQ/UveYi4FHRz+SEfySZiaeP7Y8bxwk4qm/RYyB8WoJgz8Go39L3CuvP4vkmZUaEJI/FIBDEw2kYL+yFiDSO9RSv334GvytflE/2lOgVM8wNb8bqNEHLHaRv9Ucnea4zlG/qdg64y9RVr+FjGz8l80zPx6nyQmdrGI/WhEv0yY9Wr8k+JlU9Y1zP/jkgtH9prA/mjsPvIXjuj8T/jwyBGuYv54H9oIchqe/bVYaJ74qej8X48Mdik5qvwBRpj8zdD2/JRQ4FBsmbj/m2t7chKhVPx4VRmorT0g/agm4iLFggz9sCT1cP9mTv3Sz+cxnjWg/oTXOfhiUF7/+q5XuS8+wP/ONRNjFAVu/5LHhOGsuOT+QYSt+B60+v39KfiUtLUw/9Vv3IZLOlb/0MYxAFfh9Pz/+Pe+9fnw/HU68ge+oFT8j9CjRDV5wP5iq1KHRbXI/ffga/K1+UT8Wf1SZuX55P9PeKZidZIU/+QfdbO2qkT9IHnYIDrqrPwSHAcfagKm/VXb3DfnfIT8qlExTK/tVv8DygDHoFpU/9DGMQBX4fT8zIppFiXd6PyqiVyiSbRO/6X0sNH8rWj/aU6BUzzA1v2CCuo73HWE/kL/w9DCXkb8IDwMXM6A1P/63ocimcyC/N2l5RtIZoL+knNC6BeXSP17jvKw7ero/7K+QwHn5uD9B0QcxEA5JP+l9LDR/K1o/Igu+E/koCb9FTIuy+t1OPy8/rac7zQw/AMp+LUBjiD+Inn1APC9iP/56ojXkB72/mVtWDK2flL/jEU9R9Bwbv2CCuo73HWE/6kcn05u+mL800l37z/F2PyDTCQg6dGM/XJJuNuJ8eT/aeNP4wZNtP4saETu7QWQ/Y3oRgU4AQL+AAmuqRcyvP9QCF9HF6Yk/aWSLLYdltz+51jMg34/5Pn7D9SOudGC/N7Ga3Whqgj/lKX7kOkJ5P7B9F1ZuB4g/6dDS9n4WnL9YXQXs8B5YP/QxjEAV+H0/MJRU/29GFL8Wnjhdft+uPzUzTaJxFUc/sovpv3vsVD/YLC/Irh8bv7niQYMvLT2/UfWdoYm5fz8wUG21Dg++PwbbwUjCUrA/nKl3nEPzjT/QDzYarJRzvwgPAxczoDU/ffga/K1+UT877sffOxlcP2Xi9zah7Ui/EYwsU1QiZD8iFzGeQQVpvwSqg/7JqJ0/m6b661djWb9nlkx0MMBFv4ACa6pFzK8/CzDHlPOnXz+SPAWTjLRXP1H1naGJuX8/o3rIMu4AXT+oiqyYZwIiPwqkhLziyZO/9Df+3aBtVj+85298vhFgP4kbnMOCqLE/o3rIMu4AXT/RPdH0u2gIwBLX3XAFAKS/+2g+uVPadb9/Sn4lLS1MP88pyzo7aJA/ixoRO7tBZD9IWbqC2gpyP4TLxWb642g/7cTuvH+xcj+Dl1dobwVsP5tsuMWWBja/4t7Gy7SnaD9jD68lrp1yPyi3Ojs/RSw/Hm9bzf6Fo7+WTUAy9VlOv1BBqy3vPJI/NQ64uAanaj+D0bb/LhRcP4v7iQKUymi/eSMBUq/tTr+zCABkgolyP/jcRD/CyYA/iOYD+BqoQb+bCaVsgxuCPwzVIJ2SYEA/yDeNYho7cz+zpjBUuxVmP2iFEvhc0JK/26yNbWq1Ob/mvwAWb+juvkoGVdDmtCM/7THR/L4gZT/ugYDMYc2AP9jwHegfHKA/dmsk2XSBm79sxXjTnWs0v2eKHBx0i5O/kQahGwdxWT+s5tJ737YUP8fI3U6yBX4/P/49771+fD9kc5zdUQybP7xk3OvUMpQ/lm1PLzf5kL8F1bSD6OHMP9V/OMTXP4Y/Mi3t+aeCij9DSla3a0SUP+4QU6AX0co/PW4rzf5M6j68WvdI1oKMPz4qYWh8h2C/pqImanm5cD90SGMhQkSNP1TmaEHEgYY/006ezWlaYL8acz6TuiqQP75Vh4quB7A/GTMQeywfdz9UeoalvY+EP1vm821PgmW/JzTQTFimYr+eveEindKjP334GvytflE/8V+BUxU3Zz+yyXly4ohMPxv7DSFi6HC/cSigTFeYwT+IdGDvWdiovY0dk+dbtjk/A+gG8qtVk79oPwbjLad8P67lOxd2J4s/5oSihb/5TT+2FCc+GnhuP/jVd5sJqRI/QPsthmJMYr9/Nr5JYf1Hv3xVp23UrGo/NQ64uAanaj9Dsd/iY0N6v6SdqoKNiUe/006ezWlaYL9mKwBwdSHDPztO0MgUbKE/YSU/BRKywz813RrJmW2APxgcrqZXzrg/ks4ZYlMqQ7/myJ4nSPCEv16gggyOgFI/eIRgKP5dWj9waG3F5d23v0J2cdUThzG/DvUiX3cabr9PkvkBJedyP0U8QF+2y64/6GsaM5l+3z+efcjyQpOCPyrAd6zbXKg/SXdtOSuBpD8VmKnnbhyGv0gA6wfvRhS/5qWRNbZYU792OwTEmO1MP2cZGxODcXK/V6D/cP72ND8/qX5mlwQ+v064Zughu0A/usMYtXC8Oj+KrDIXK3t8PyNARENgbmC/JzTQTFimYr/x0Z9XszpLP5mZq4tbOoM/hMvoGy42lL/xCGSskqmav2xbuDOu0me/WF0F7PAeWD8swQMRoRRsP2bu67qkg1s/MTt5Ko4Ycb/grlH3DWYFvxR2f1tdGlM/mwmlbIMbgj+sttPzsZNwvzIX4DD/AtA/oRpsc/1LZL8AHNGdhY9wv+8mcmhOadq/WhAVibhyr7+pdpHgPMlCP1BKTSE6d0E/41jpaoUQd7+QbFWaCj5ev8oxEGon4Yq/YqDssIBVdL8tsFaeOUVivxDXjHRD5Zi/JuY/RA+0AD9OZX/Yvk5Mv6zOSotU/Du/goykx6YNhj/OVZ2kBIZoP8QUfpesz1k/l/lCdDcWaz/sl4o2LSyKv2Xi9zah7Ui/JJ6xUhFSiD/vi09gpBFzP9j08S7TMZm/ANcTlUAJ6L5kFWQ7lo+zvwo6XFKaAaS/9NZeU2l2wL+GWnNkh32uPwefwA/qE4Q/77iLsg9g/766+lnGCjaMP2gjDmVP1XM/udYzIN+P+T6XppVFTU59PyfEgV7pKlK/zEOyxJ+XYz+mEtGi/xs8v0qZJBpfCz2/IlOvsKkwWz9Y3IhG7FQzv8g3jWIaO3M/y0asbToiiz/gEZuu8vU0vxypx2dE4mm/oDUc/hZcGL8Jk+aEUErPP86z63jFD68/YIK6jvcdYT+U/k4R0rg1P1kBz+jxsZa/0mBbCbLINT8zmfs27ElSv2ToGxfa7IG/BgaSbcbWNb9CgN4dAVmIPwdlT4NiGqi/+pLK60ZHjD8TSSHPnl1TP0pCI42bw5O/5kKQBnG2YL+RBqEbB3FZP1jAkbRogkw/T10echQfsD/Os+t4xQ+vP3xVp23UrGo/CFcYr2vokj/JOEhFHnsiv6NSaW2Jz24/DgwpQCk9mT+5AN8sW4RZv49wT2r6uSC/cPvc5Th5gz+HdFe2lA9YPwjSQIbaLo0/4HnYobXvRj/dKilcmvApP74mvESQxLC/oDUc/hZcGL+CjyZmQyKIv4saETu7QWQ/PTRc7xvHQT/0MYxAFfh9P0h3zqChU2C/F1u7pMrXlL/IziKbBBBOP7LJeXLiiEw/19iY95mUYD/Uyf/XOFgzvyVMFNuX2ia/9aRRFP3opD8lTBTbl9omv78/IVWwvrA/NLLaHOPDsz+hsPGsaA8CvxzZC5DmQ1c/GnBADGvJcD9+RP+VNeajP+E6s8rqeHE/A1UroRDq2z9qRAVzZQdnv5xI2TPep24/nMfNseZhdD/JMSFcZm+yPyoknJmCFgW/K0CgT1mfcD+igTt4QpSiPwiAgMP413s/3F0vrGpQYr/k/7hcz+xBP0tFHKEXZrE/j98nUE2YWr/ENRwA/H2TvzT7wPUoIDM/Kjt3UrM2tb+I3Ew+0BA7v6CMhC6Yr1s/NWQ7f8atYz8qyX3CPkdwP452WEpvE3W/fZCtjJcreT+GtkivTVyxP5WFHCUOqi8/9iwldudjc7/PzHihDut7P5fhb55mK0u/PgsftgIxQL9sxXjTnWs0v99gJndhgrY/FHULVTM1Mr8uYWu8AE9gvyYWM6eER2U/FC4lhM/7UL/bzvBrmT9kP/mDsoVEF0K/jorYS2/NtD+yi+m/e+xUP5Yc3Vdnn52/B47udxIVkj8l89t3KRV1v5ngysk2XYO/x9doaWsfPr8AqJXFCC5rP4yfHvto0lM/QAq6gxarUr9gFMu4JX2nPxBgTiHDQVs/b8krUiw+Rz9GmlwRSn6Qv+0x0fy+IGU/006ezWlaYL9ON/W2nX3hP2gjDmVP1XM/+sxIKJ1ehT++Cvw8+4KNP05lf9i+Tky/LJocdo1PUD/QKjczUg98vxaH5RylSqW/nIsb58lbYr8Qyj0RlFGKP3OevjA5L3E/PxzVPK72VD8wHggNGTlpP4HrWNEG8Yk/UIOvGo06ij/1P3Ov6UMrv3OevjA5L3E/v2I63aLOX7/Y9PEu0zGZv7Skld1Zoma/287wa5k/ZD92OwTEmO1MPwpOPQFsPXQ/JlkZsmIu/L7MQ7LEn5djP17nHIv7RSK/UveYi4FHRz8UgEMTDaRgv+iNHl5rPSi/DW2zVJp3P7+3r/wFmnRWv4YMDG1/F7A/TAwQcFt9gD+pdpHgPMlCP8nKJLVszUw/4HnYobXvRj+gitNIrFayP8fXaGlrHz6/+SXpfiLdrz9R9Z2hibl/P07SAe1hPDS/dM3OzfIAp79JwusK0KVhv8KiEqQvgiQ/YpECFnt8bb8ZE9wuQMxkv4OoHisJ1s0/HjtfgoR1JD9QwhkGdkfPPy6Ea3xO9W6/3SPJOhcPhj9iOLXgsaeaP74K/Dz7go0/V6D/cP72ND9HAwGThcyQv88950p4XUy//dTBgd/vRj9H0kVS60VgP1BBqy3vPJI/3MI2fGOeeL/tQu8pet21vwiAgMP413s/uA/FXgPefr+4dAdJ4PaQP07GvaTLFSu/qXaR4DzJQj9jLLCm6U2XvyJK6lC4dGg/GtFJDFMsaL/NgxdciuAxv0rqBNwEQ2e/m6b661djWb90s/nMZ41oP8BDRj/i462/3mYJH0WfUr/5bGbHrh8bv/jrmZzZajC/YN5cqSfr7L6/Yjrdos5fv35E/5U15qM/dhfgsxxrkb8Ec9KRvM9bP3zgtQrLyBA/NGMC4oB8sz8ea8bFRaC+P1y+i+ssvZe/lrnwTlQicD9nVd3aVnudP+ba3tyEqFU/E0ukHkJrAb/FVqxaz4KgP+6ALammOXS/zHbWzv1vX7+H/DGZdBFbvygiOvhRIRm/98vyMnrrSz8b+45ibH9EP0cAAEMJ83S/g5dXaG8FbD9SFbxF+w6QP5Y4ATqlVEw/W1nGbbReUz/mgc2mVrk+v8bh0HSfj2C/BN5MLWhyWj+zXx8oTO2jP5CtvgkYYX2/1Gii4WDzSj9qPnaxyO7EPwjgdmemrHg/F1u7pMrXlL/hGfbEFs8Xv54AEmJEsOg+uCC2KMR3Ur+66zyW9GSqP3+giORlsu0/ufh5ziy4ZT9tS5er18SKPwjgdmemrHg/5tre3ISoVT+pdpHgPMlCP4Ie3lIhX0m/1g9OhvfXoL9VvbJbp09zv5WFHCUOqi8/1GfL4G5rTD8LMMeU86dfP97vFOJLjEK/7gsP0XfJlz8QI5gSll+NP5emlUVNTn0/WhggGwohyz8eAz4KmoOAP6tqMwmwpKI/ruF7D5bnez+EnfdpujtavyL6bG643Ji/+rtXnfV0Lz8Wv0L2AYVRP1LGyWWR71O/dveyaRi8Xj+GV6sHEGx3vw2gFtXfmvA/vQbd2FRWcj81Dri4BqdqP2xsMtZJy5K/MKOdduBFiL86/yxqyddfv3BXV2xJ/VW/AC+i9/endj+xQiGcDFVJPz9JkbofXnk/djvTUu9Qhz+o/LZTp7J5P3hR2nCPKXo/NQ64uAanaj8="
         },
         "yaxis": "y",
         "type": "scattergl"
        }
       ],
       "layout": {
        "template": {
         "data": {
          "histogram2dcontour": [
           {
            "type": "histogram2dcontour",
            "colorbar": {
             "outlinewidth": 0,
             "ticks": ""
            },
            "colorscale": [
             [
              0.0,
              "#0d0887"
             ],
             [
              0.1111111111111111,
              "#46039f"
             ],
             [
              0.2222222222222222,
              "#7201a8"
             ],
             [
              0.3333333333333333,
              "#9c179e"
             ],
             [
              0.4444444444444444,
              "#bd3786"
             ],
             [
              0.5555555555555556,
              "#d8576b"
             ],
             [
              0.6666666666666666,
              "#ed7953"
             ],
             [
              0.7777777777777778,
              "#fb9f3a"
             ],
             [
              0.8888888888888888,
              "#fdca26"
             ],
             [
              1.0,
              "#f0f921"
             ]
            ]
           }
          ],
          "choropleth": [
           {
            "type": "choropleth",
            "colorbar": {
             "outlinewidth": 0,
             "ticks": ""
            }
           }
          ],
          "histogram2d": [
           {
            "type": "histogram2d",
            "colorbar": {
             "outlinewidth": 0,
             "ticks": ""
            },
            "colorscale": [
             [
              0.0,
              "#0d0887"
             ],
             [
              0.1111111111111111,
              "#46039f"
             ],
             [
              0.2222222222222222,
              "#7201a8"
             ],
             [
              0.3333333333333333,
              "#9c179e"
             ],
             [
              0.4444444444444444,
              "#bd3786"
             ],
             [
              0.5555555555555556,
              "#d8576b"
             ],
             [
              0.6666666666666666,
              "#ed7953"
             ],
             [
              0.7777777777777778,
              "#fb9f3a"
             ],
             [
              0.8888888888888888,
              "#fdca26"
             ],
             [
              1.0,
              "#f0f921"
             ]
            ]
           }
          ],
          "heatmap": [
           {
            "type": "heatmap",
            "colorbar": {
             "outlinewidth": 0,
             "ticks": ""
            },
            "colorscale": [
             [
              0.0,
              "#0d0887"
             ],
             [
              0.1111111111111111,
              "#46039f"
             ],
             [
              0.2222222222222222,
              "#7201a8"
             ],
             [
              0.3333333333333333,
              "#9c179e"
             ],
             [
              0.4444444444444444,
              "#bd3786"
             ],
             [
              0.5555555555555556,
              "#d8576b"
             ],
             [
              0.6666666666666666,
              "#ed7953"
             ],
             [
              0.7777777777777778,
              "#fb9f3a"
             ],
             [
              0.8888888888888888,
              "#fdca26"
             ],
             [
              1.0,
              "#f0f921"
             ]
            ]
           }
          ],
          "contourcarpet": [
           {
            "type": "contourcarpet",
            "colorbar": {
             "outlinewidth": 0,
             "ticks": ""
            }
           }
          ],
          "contour": [
           {
            "type": "contour",
            "colorbar": {
             "outlinewidth": 0,
             "ticks": ""
            },
            "colorscale": [
             [
              0.0,
              "#0d0887"
             ],
             [
              0.1111111111111111,
              "#46039f"
             ],
             [
              0.2222222222222222,
              "#7201a8"
             ],
             [
              0.3333333333333333,
              "#9c179e"
             ],
             [
              0.4444444444444444,
              "#bd3786"
             ],
             [
              0.5555555555555556,
              "#d8576b"
             ],
             [
              0.6666666666666666,
              "#ed7953"
             ],
             [
              0.7777777777777778,
              "#fb9f3a"
             ],
             [
              0.8888888888888888,
              "#fdca26"
             ],
             [
              1.0,
              "#f0f921"
             ]
            ]
           }
          ],
          "surface": [
           {
            "type": "surface",
            "colorbar": {
             "outlinewidth": 0,
             "ticks": ""
            },
            "colorscale": [
             [
              0.0,
              "#0d0887"
             ],
             [
              0.1111111111111111,
              "#46039f"
             ],
             [
              0.2222222222222222,
              "#7201a8"
             ],
             [
              0.3333333333333333,
              "#9c179e"
             ],
             [
              0.4444444444444444,
              "#bd3786"
             ],
             [
              0.5555555555555556,
              "#d8576b"
             ],
             [
              0.6666666666666666,
              "#ed7953"
             ],
             [
              0.7777777777777778,
              "#fb9f3a"
             ],
             [
              0.8888888888888888,
              "#fdca26"
             ],
             [
              1.0,
              "#f0f921"
             ]
            ]
           }
          ],
          "mesh3d": [
           {
            "type": "mesh3d",
            "colorbar": {
             "outlinewidth": 0,
             "ticks": ""
            }
           }
          ],
          "scatter": [
           {
            "marker": {
             "line": {
              "color": "#283442"
             }
            },
            "type": "scatter"
           }
          ],
          "parcoords": [
           {
            "type": "parcoords",
            "line": {
             "colorbar": {
              "outlinewidth": 0,
              "ticks": ""
             }
            }
           }
          ],
          "scatterpolargl": [
           {
            "type": "scatterpolargl",
            "marker": {
             "colorbar": {
              "outlinewidth": 0,
              "ticks": ""
             }
            }
           }
          ],
          "bar": [
           {
            "error_x": {
             "color": "#f2f5fa"
            },
            "error_y": {
             "color": "#f2f5fa"
            },
            "marker": {
             "line": {
              "color": "rgb(17,17,17)",
              "width": 0.5
             },
             "pattern": {
              "fillmode": "overlay",
              "size": 10,
              "solidity": 0.2
             }
            },
            "type": "bar"
           }
          ],
          "scattergeo": [
           {
            "type": "scattergeo",
            "marker": {
             "colorbar": {
              "outlinewidth": 0,
              "ticks": ""
             }
            }
           }
          ],
          "scatterpolar": [
           {
            "type": "scatterpolar",
            "marker": {
             "colorbar": {
              "outlinewidth": 0,
              "ticks": ""
             }
            }
           }
          ],
          "histogram": [
           {
            "marker": {
             "pattern": {
              "fillmode": "overlay",
              "size": 10,
              "solidity": 0.2
             }
            },
            "type": "histogram"
           }
          ],
          "scattergl": [
           {
            "marker": {
             "line": {
              "color": "#283442"
             }
            },
            "type": "scattergl"
           }
          ],
          "scatter3d": [
           {
            "type": "scatter3d",
            "line": {
             "colorbar": {
              "outlinewidth": 0,
              "ticks": ""
             }
            },
            "marker": {
             "colorbar": {
              "outlinewidth": 0,
              "ticks": ""
             }
            }
           }
          ],
          "scattermap": [
           {
            "type": "scattermap",
            "marker": {
             "colorbar": {
              "outlinewidth": 0,
              "ticks": ""
             }
            }
           }
          ],
          "scattermapbox": [
           {
            "type": "scattermapbox",
            "marker": {
             "colorbar": {
              "outlinewidth": 0,
              "ticks": ""
             }
            }
           }
          ],
          "scatterternary": [
           {
            "type": "scatterternary",
            "marker": {
             "colorbar": {
              "outlinewidth": 0,
              "ticks": ""
             }
            }
           }
          ],
          "scattercarpet": [
           {
            "type": "scattercarpet",
            "marker": {
             "colorbar": {
              "outlinewidth": 0,
              "ticks": ""
             }
            }
           }
          ],
          "carpet": [
           {
            "aaxis": {
             "endlinecolor": "#A2B1C6",
             "gridcolor": "#506784",
             "linecolor": "#506784",
             "minorgridcolor": "#506784",
             "startlinecolor": "#A2B1C6"
            },
            "baxis": {
             "endlinecolor": "#A2B1C6",
             "gridcolor": "#506784",
             "linecolor": "#506784",
             "minorgridcolor": "#506784",
             "startlinecolor": "#A2B1C6"
            },
            "type": "carpet"
           }
          ],
          "table": [
           {
            "cells": {
             "fill": {
              "color": "#506784"
             },
             "line": {
              "color": "rgb(17,17,17)"
             }
            },
            "header": {
             "fill": {
              "color": "#2a3f5f"
             },
             "line": {
              "color": "rgb(17,17,17)"
             }
            },
            "type": "table"
           }
          ],
          "barpolar": [
           {
            "marker": {
             "line": {
              "color": "rgb(17,17,17)",
              "width": 0.5
             },
             "pattern": {
              "fillmode": "overlay",
              "size": 10,
              "solidity": 0.2
             }
            },
            "type": "barpolar"
           }
          ],
          "pie": [
           {
            "automargin": true,
            "type": "pie"
           }
          ]
         },
         "layout": {
          "autotypenumbers": "strict",
          "colorway": [
           "#636efa",
           "#EF553B",
           "#00cc96",
           "#ab63fa",
           "#FFA15A",
           "#19d3f3",
           "#FF6692",
           "#B6E880",
           "#FF97FF",
           "#FECB52"
          ],
          "font": {
           "color": "#f2f5fa"
          },
          "hovermode": "closest",
          "hoverlabel": {
           "align": "left"
          },
          "paper_bgcolor": "rgb(17,17,17)",
          "plot_bgcolor": "rgb(17,17,17)",
          "polar": {
           "bgcolor": "rgb(17,17,17)",
           "angularaxis": {
            "gridcolor": "#506784",
            "linecolor": "#506784",
            "ticks": ""
           },
           "radialaxis": {
            "gridcolor": "#506784",
            "linecolor": "#506784",
            "ticks": ""
           }
          },
          "ternary": {
           "bgcolor": "rgb(17,17,17)",
           "aaxis": {
            "gridcolor": "#506784",
            "linecolor": "#506784",
            "ticks": ""
           },
           "baxis": {
            "gridcolor": "#506784",
            "linecolor": "#506784",
            "ticks": ""
           },
           "caxis": {
            "gridcolor": "#506784",
            "linecolor": "#506784",
            "ticks": ""
           }
          },
          "coloraxis": {
           "colorbar": {
            "outlinewidth": 0,
            "ticks": ""
           }
          },
          "colorscale": {
           "sequential": [
            [
             0.0,
             "#0d0887"
            ],
            [
             0.1111111111111111,
             "#46039f"
            ],
            [
             0.2222222222222222,
             "#7201a8"
            ],
            [
             0.3333333333333333,
             "#9c179e"
            ],
            [
             0.4444444444444444,
             "#bd3786"
            ],
            [
             0.5555555555555556,
             "#d8576b"
            ],
            [
             0.6666666666666666,
             "#ed7953"
            ],
            [
             0.7777777777777778,
             "#fb9f3a"
            ],
            [
             0.8888888888888888,
             "#fdca26"
            ],
            [
             1.0,
             "#f0f921"
            ]
           ],
           "sequentialminus": [
            [
             0.0,
             "#0d0887"
            ],
            [
             0.1111111111111111,
             "#46039f"
            ],
            [
             0.2222222222222222,
             "#7201a8"
            ],
            [
             0.3333333333333333,
             "#9c179e"
            ],
            [
             0.4444444444444444,
             "#bd3786"
            ],
            [
             0.5555555555555556,
             "#d8576b"
            ],
            [
             0.6666666666666666,
             "#ed7953"
            ],
            [
             0.7777777777777778,
             "#fb9f3a"
            ],
            [
             0.8888888888888888,
             "#fdca26"
            ],
            [
             1.0,
             "#f0f921"
            ]
           ],
           "diverging": [
            [
             0,
             "#8e0152"
            ],
            [
             0.1,
             "#c51b7d"
            ],
            [
             0.2,
             "#de77ae"
            ],
            [
             0.3,
             "#f1b6da"
            ],
            [
             0.4,
             "#fde0ef"
            ],
            [
             0.5,
             "#f7f7f7"
            ],
            [
             0.6,
             "#e6f5d0"
            ],
            [
             0.7,
             "#b8e186"
            ],
            [
             0.8,
             "#7fbc41"
            ],
            [
             0.9,
             "#4d9221"
            ],
            [
             1,
             "#276419"
            ]
           ]
          },
          "xaxis": {
           "gridcolor": "#283442",
           "linecolor": "#506784",
           "ticks": "",
           "title": {
            "standoff": 15
           },
           "zerolinecolor": "#283442",
           "automargin": true,
           "zerolinewidth": 2
          },
          "yaxis": {
           "gridcolor": "#283442",
           "linecolor": "#506784",
           "ticks": "",
           "title": {
            "standoff": 15
           },
           "zerolinecolor": "#283442",
           "automargin": true,
           "zerolinewidth": 2
          },
          "scene": {
           "xaxis": {
            "backgroundcolor": "rgb(17,17,17)",
            "gridcolor": "#506784",
            "linecolor": "#506784",
            "showbackground": true,
            "ticks": "",
            "zerolinecolor": "#C8D4E3",
            "gridwidth": 2
           },
           "yaxis": {
            "backgroundcolor": "rgb(17,17,17)",
            "gridcolor": "#506784",
            "linecolor": "#506784",
            "showbackground": true,
            "ticks": "",
            "zerolinecolor": "#C8D4E3",
            "gridwidth": 2
           },
           "zaxis": {
            "backgroundcolor": "rgb(17,17,17)",
            "gridcolor": "#506784",
            "linecolor": "#506784",
            "showbackground": true,
            "ticks": "",
            "zerolinecolor": "#C8D4E3",
            "gridwidth": 2
           }
          },
          "shapedefaults": {
           "line": {
            "color": "#f2f5fa"
           }
          },
          "annotationdefaults": {
           "arrowcolor": "#f2f5fa",
           "arrowhead": 0,
           "arrowwidth": 1
          },
          "geo": {
           "bgcolor": "rgb(17,17,17)",
           "landcolor": "rgb(17,17,17)",
           "subunitcolor": "#506784",
           "showland": true,
           "showlakes": true,
           "lakecolor": "rgb(17,17,17)"
          },
          "title": {
           "x": 0.05
          },
          "updatemenudefaults": {
           "bgcolor": "#506784",
           "borderwidth": 0
          },
          "sliderdefaults": {
           "bgcolor": "#C8D4E3",
           "borderwidth": 1,
           "bordercolor": "rgb(17,17,17)",
           "tickwidth": 0
          },
          "mapbox": {
           "style": "dark"
          }
         }
        },
        "xaxis": {
         "anchor": "y",
         "domain": [
          0.0,
          1.0
         ],
         "title": {
          "text": "x"
         }
        },
        "yaxis": {
         "anchor": "x",
         "domain": [
          0.0,
          1.0
         ],
         "title": {
          "text": "y"
         }
        },
        "legend": {
         "tracegroupgap": 0
        },
        "margin": {
         "t": 60
        }
       },
       "config": {
        "plotlyServerURL": "https://plot.ly"
       }
      }
     },
     "metadata": {},
     "output_type": "display_data"
    }
   ],
   "execution_count": 88
  },
  {
   "metadata": {
    "ExecuteTime": {
     "end_time": "2025-07-17T12:59:07.548109Z",
     "start_time": "2025-07-17T12:59:07.546777Z"
    }
   },
   "cell_type": "code",
   "source": "",
   "id": "a01e0b1e6ef03beb",
   "outputs": [],
   "execution_count": null
  },
  {
   "metadata": {
    "ExecuteTime": {
     "end_time": "2025-07-17T12:59:07.563978Z",
     "start_time": "2025-07-17T12:59:07.561887Z"
    }
   },
   "cell_type": "code",
   "source": "print(X.shape)",
   "id": "418c54def18cb5cd",
   "outputs": [
    {
     "name": "stdout",
     "output_type": "stream",
     "text": [
      "(2131, 2373)\n"
     ]
    }
   ],
   "execution_count": 89
  },
  {
   "metadata": {
    "ExecuteTime": {
     "end_time": "2025-07-17T13:00:06.396397Z",
     "start_time": "2025-07-17T13:00:06.385881Z"
    }
   },
   "cell_type": "code",
   "source": "print(Z.shape)",
   "id": "585f3aff5e3cb9fa",
   "outputs": [
    {
     "name": "stdout",
     "output_type": "stream",
     "text": [
      "(2131, 2)\n"
     ]
    }
   ],
   "execution_count": 92
  },
  {
   "metadata": {
    "ExecuteTime": {
     "end_time": "2025-07-17T12:59:07.641981Z",
     "start_time": "2025-07-17T12:59:07.594182Z"
    }
   },
   "cell_type": "code",
   "source": [
    "fig = px.scatter(\n",
    "    x=Z[:100, 0],\n",
    "    y=Z[:100, 1],\n",
    "    text=index_word_map[:100],\n",
    "    size_max=60\n",
    ")\n",
    "fig.update_traces(textposition='top center')\n",
    "fig.show()\n",
    "fig.write_html('plot.html')\n",
    "\n"
   ],
   "id": "6cf4349204e72a2e",
   "outputs": [
    {
     "data": {
      "application/vnd.plotly.v1+json": {
       "data": [
        {
         "hovertemplate": "x=%{x}<br>y=%{y}<br>text=%{text}<extra></extra>",
         "legendgroup": "",
         "marker": {
          "color": "#636efa",
          "symbol": "circle"
         },
         "mode": "markers+text",
         "name": "",
         "orientation": "v",
         "showlegend": false,
         "text": [
          "'the",
          "...",
          "a-z",
          "abbas",
          "abnormal",
          "abridged",
          "absolute",
          "absraction",
          "abstraction",
          "abundance",
          "acc",
          "access/phils",
          "accessibility",
          "accessible",
          "accompanied",
          "accompany",
          "accordance",
          "accounting",
          "achieving",
          "acl-mit",
          "acsm",
          "acsms",
          "act",
          "action",
          "active",
          "activism",
          "activity",
          "actor",
          "actuarial",
          "actuary",
          "adaptation",
          "adaptive",
          "addiction",
          "adelaide",
          "administering",
          "administration",
          "administrative",
          "administrator",
          "adts",
          "adult",
          "advance",
          "advanced",
          "advantage",
          "advertising",
          "aerodynamic",
          "aerodynamics",
          "aeronautics",
          "aerospace",
          "africa",
          "african",
          "africana",
          "afro-american",
          "afro-surinamese",
          "age",
          "agenda",
          "agricultural",
          "agriculture",
          "agro-industries",
          "agroecology",
          "aiaa",
          "aircraft",
          "al-kitaab",
          "ala",
          "albert",
          "aldama",
          "algebra",
          "algebraic",
          "algorithm",
          "algorithmic",
          "alicante",
          "alif",
          "all-hazards",
          "all-in-one",
          "allah",
          "allelopathy",
          "allergy",
          "along",
          "altered",
          "alternate",
          "alternative",
          "america",
          "american",
          "among",
          "amplifier",
          "analog",
          "analysis",
          "analytical",
          "analytics",
          "analyzing",
          "anatomy",
          "ancient",
          "ancillaries",
          "andrew",
          "anesthesia",
          "angel",
          "animal",
          "anne",
          "annotated",
          "annual",
          "anomaly"
         ],
         "x": {
          "dtype": "f8",
          "bdata": "8QzCAZMPRD9nMm+FY/KUP9xOz000QlQ/C9/I9Du/gT8Rr6dFuamaPxrRJzSoI2M/qRXvJxtAhz+UkGHrZlKNPwpGw9j6/Jg/6wCebCOzeD9pYvoQh1xRP1Thj/XvAXs/+A0un74sfT+ptCruHcxtP79KfMLJIHI/ZvRzFO6hYj/3zFAl/0hkP5OZdo9KSr0/8LwtN/daiz+aAYaTUXyIPzqS/VM5rK0/JnlsjWNQcz+jasUMvyaDPwuwxM76J5Y/WZ+gZFzemz/nfSKKMuB2P348863nQHs/K2t3lvYQXj+ixwBzIlrgP1um4D3ZTq0/rkT/r5VyZj/lWGHAtCqfP1eTb9+IBXU/V71wL5QzhT88Kia5aGZnP9R3lu/D0VU/9dujv+JEhT+GDH1OkSRmP/VxnN4YOoI/DlaD54vUhj9I6vRsf8CiP7QDLY9C8Kk/IuEDhBXZrT9fopvhPc2mP4VbS+T0vKU/YqHWeGP0tj+5BB8KbYtlP0tv7feZAWk/grl9rguIqj8+NC/FM6mpPwdVJHLsxGg/j8BpggSAfj9lZhRf21l1P6zaC/k9dNM/Y3Ii/QoOsz+7KXgTMwCIP1tsQW1XToc/YXKUf3RbsT9FJ0jFvPB9P5rcGoOkd2c/bUaiQDY0cj9GrHInDpJxP77a0bu/2ZY/4tOpbs58Xj+l5j3AKhyDP1Y3DkVf3MY/qSAbtXY+dD/Q1Grrg0LiP8djaxk7Jng/wr7o4ZH7lD9GrHInDpJxP5TS9jzG5XU/76clh1qxXj9NiHAv2XRCP7gqXptp31w/y8zv9CUIdT+1JQbVbs2NP/VIbELgjZQ/dgdfDNjbfz9jciL9Cg6zPx53+Ar1JdM/mHMEPJKe6T/U7E2hzq98P1/u2UOwh3k/0kDGyLXcoj9AoJUwk0XwPzgzzT/96Xc/zOKUb85yiz+rLvvftny3P2wnjJ7fBt8/n7fRmX/Oqj+DR2VztWSHP5LYCHhDtXE/TtEF4wTVfD8rDdIp5P2NP+QpLeSK/GY/aIhqc91uaD+EHP5zysSXP4de6VTiWkQ/LW9nomdPgT8="
         },
         "xaxis": "x",
         "y": {
          "dtype": "f8",
          "bdata": "o3rIMu4AXT+fZn5zJ+hLP/oybjBkBvu+0vyQKk5BVb/mMGw0jT6IP6zOSotU/Du/nysMzYtvWb+yTyiwinhkv4tGYoHWRXG/7ARVk+MiXb9et+pjqHrxvl2jC2RbTjq/FyK+1VLNTb+L5seTWoc0P1QNbdaHPIE/f0p+JS0tTD++RBvR/ZhvP60/LVl+SYi/GeerYtumQL+vB6zZUTxFv5i2Yahnr5K/JuBbnPS9O797Jy3jcg0LvwjgUUYfLG2/bRaLbMvxOr+RWP5H4wNePwattwAt8Vo/zaUtiW60ZD9cloe1pR/Av4Jq62b7DWm//q/e0L3idT+SFtJeUl9hv99gyJ8hPko/fkT/lTXmoz8hxZya37A8P0R9X1bDATI/qA/1U2HVI78M6FuI+tc9P4BmOnRoVk6/gNAZAM0AHr9x/EA6/WBnv77vcak7jbE/1hJ1Yp36rD+ntGfe74XDP+2dw3ypwWu/Ivlt212Kgr93CbRs4G8qP7Wanbn5CFE/wlo7/HtOwj+BxpyGegPFP/eqhABo9XQ/aCMOZU/Vcz9WNtN9v1V1PzunbmjdivI/Sy6GFrUplr9IdwpvsNxRv0jG2YIJloA/2BIHEMUplL/5dDEXSHsGP4xHkfyXzUM/9T9zr+lDK783K430XXRCP6mBCV7ctm8/eDckwfPoSj9WkoQuoO8jP8oeRCybq6q/yidF0EhxXL/g3/A8hiiAvwqXbe3N4TE/5qWRNbZYU783K430XXRCPwjh69i1kka/QotHY5TuPD+uuGjjUwNWPzfTXdMkrBu/J8SBXukqUr9nGRsTg3Fyv1JhteqLOXE/5vlOQqB6Az9LLoYWtSmWv0rapJqsa/I/7ZjYPwtS+z+QT9OpvaF/PxNbOfE2LkO/9tKwLPrEZ7+Syfn6OFXLv66VJm3JpVI/KS6BuL7gL79gDF6AwmiQv8Zml+xpMa6/XFgYIWdBxD9XAx8+S/hGv9zg9jjS330/Tw8AhAAJPT/+q5XuS8+wP5W1DYWdPjm/BHPSkbzPWz98WKPrry65PyILvhP5KAm/Lt68IM6zOL8="
         },
         "yaxis": "y",
         "type": "scatter",
         "textposition": "top center"
        }
       ],
       "layout": {
        "template": {
         "data": {
          "histogram2dcontour": [
           {
            "type": "histogram2dcontour",
            "colorbar": {
             "outlinewidth": 0,
             "ticks": ""
            },
            "colorscale": [
             [
              0.0,
              "#0d0887"
             ],
             [
              0.1111111111111111,
              "#46039f"
             ],
             [
              0.2222222222222222,
              "#7201a8"
             ],
             [
              0.3333333333333333,
              "#9c179e"
             ],
             [
              0.4444444444444444,
              "#bd3786"
             ],
             [
              0.5555555555555556,
              "#d8576b"
             ],
             [
              0.6666666666666666,
              "#ed7953"
             ],
             [
              0.7777777777777778,
              "#fb9f3a"
             ],
             [
              0.8888888888888888,
              "#fdca26"
             ],
             [
              1.0,
              "#f0f921"
             ]
            ]
           }
          ],
          "choropleth": [
           {
            "type": "choropleth",
            "colorbar": {
             "outlinewidth": 0,
             "ticks": ""
            }
           }
          ],
          "histogram2d": [
           {
            "type": "histogram2d",
            "colorbar": {
             "outlinewidth": 0,
             "ticks": ""
            },
            "colorscale": [
             [
              0.0,
              "#0d0887"
             ],
             [
              0.1111111111111111,
              "#46039f"
             ],
             [
              0.2222222222222222,
              "#7201a8"
             ],
             [
              0.3333333333333333,
              "#9c179e"
             ],
             [
              0.4444444444444444,
              "#bd3786"
             ],
             [
              0.5555555555555556,
              "#d8576b"
             ],
             [
              0.6666666666666666,
              "#ed7953"
             ],
             [
              0.7777777777777778,
              "#fb9f3a"
             ],
             [
              0.8888888888888888,
              "#fdca26"
             ],
             [
              1.0,
              "#f0f921"
             ]
            ]
           }
          ],
          "heatmap": [
           {
            "type": "heatmap",
            "colorbar": {
             "outlinewidth": 0,
             "ticks": ""
            },
            "colorscale": [
             [
              0.0,
              "#0d0887"
             ],
             [
              0.1111111111111111,
              "#46039f"
             ],
             [
              0.2222222222222222,
              "#7201a8"
             ],
             [
              0.3333333333333333,
              "#9c179e"
             ],
             [
              0.4444444444444444,
              "#bd3786"
             ],
             [
              0.5555555555555556,
              "#d8576b"
             ],
             [
              0.6666666666666666,
              "#ed7953"
             ],
             [
              0.7777777777777778,
              "#fb9f3a"
             ],
             [
              0.8888888888888888,
              "#fdca26"
             ],
             [
              1.0,
              "#f0f921"
             ]
            ]
           }
          ],
          "contourcarpet": [
           {
            "type": "contourcarpet",
            "colorbar": {
             "outlinewidth": 0,
             "ticks": ""
            }
           }
          ],
          "contour": [
           {
            "type": "contour",
            "colorbar": {
             "outlinewidth": 0,
             "ticks": ""
            },
            "colorscale": [
             [
              0.0,
              "#0d0887"
             ],
             [
              0.1111111111111111,
              "#46039f"
             ],
             [
              0.2222222222222222,
              "#7201a8"
             ],
             [
              0.3333333333333333,
              "#9c179e"
             ],
             [
              0.4444444444444444,
              "#bd3786"
             ],
             [
              0.5555555555555556,
              "#d8576b"
             ],
             [
              0.6666666666666666,
              "#ed7953"
             ],
             [
              0.7777777777777778,
              "#fb9f3a"
             ],
             [
              0.8888888888888888,
              "#fdca26"
             ],
             [
              1.0,
              "#f0f921"
             ]
            ]
           }
          ],
          "surface": [
           {
            "type": "surface",
            "colorbar": {
             "outlinewidth": 0,
             "ticks": ""
            },
            "colorscale": [
             [
              0.0,
              "#0d0887"
             ],
             [
              0.1111111111111111,
              "#46039f"
             ],
             [
              0.2222222222222222,
              "#7201a8"
             ],
             [
              0.3333333333333333,
              "#9c179e"
             ],
             [
              0.4444444444444444,
              "#bd3786"
             ],
             [
              0.5555555555555556,
              "#d8576b"
             ],
             [
              0.6666666666666666,
              "#ed7953"
             ],
             [
              0.7777777777777778,
              "#fb9f3a"
             ],
             [
              0.8888888888888888,
              "#fdca26"
             ],
             [
              1.0,
              "#f0f921"
             ]
            ]
           }
          ],
          "mesh3d": [
           {
            "type": "mesh3d",
            "colorbar": {
             "outlinewidth": 0,
             "ticks": ""
            }
           }
          ],
          "scatter": [
           {
            "marker": {
             "line": {
              "color": "#283442"
             }
            },
            "type": "scatter"
           }
          ],
          "parcoords": [
           {
            "type": "parcoords",
            "line": {
             "colorbar": {
              "outlinewidth": 0,
              "ticks": ""
             }
            }
           }
          ],
          "scatterpolargl": [
           {
            "type": "scatterpolargl",
            "marker": {
             "colorbar": {
              "outlinewidth": 0,
              "ticks": ""
             }
            }
           }
          ],
          "bar": [
           {
            "error_x": {
             "color": "#f2f5fa"
            },
            "error_y": {
             "color": "#f2f5fa"
            },
            "marker": {
             "line": {
              "color": "rgb(17,17,17)",
              "width": 0.5
             },
             "pattern": {
              "fillmode": "overlay",
              "size": 10,
              "solidity": 0.2
             }
            },
            "type": "bar"
           }
          ],
          "scattergeo": [
           {
            "type": "scattergeo",
            "marker": {
             "colorbar": {
              "outlinewidth": 0,
              "ticks": ""
             }
            }
           }
          ],
          "scatterpolar": [
           {
            "type": "scatterpolar",
            "marker": {
             "colorbar": {
              "outlinewidth": 0,
              "ticks": ""
             }
            }
           }
          ],
          "histogram": [
           {
            "marker": {
             "pattern": {
              "fillmode": "overlay",
              "size": 10,
              "solidity": 0.2
             }
            },
            "type": "histogram"
           }
          ],
          "scattergl": [
           {
            "marker": {
             "line": {
              "color": "#283442"
             }
            },
            "type": "scattergl"
           }
          ],
          "scatter3d": [
           {
            "type": "scatter3d",
            "line": {
             "colorbar": {
              "outlinewidth": 0,
              "ticks": ""
             }
            },
            "marker": {
             "colorbar": {
              "outlinewidth": 0,
              "ticks": ""
             }
            }
           }
          ],
          "scattermap": [
           {
            "type": "scattermap",
            "marker": {
             "colorbar": {
              "outlinewidth": 0,
              "ticks": ""
             }
            }
           }
          ],
          "scattermapbox": [
           {
            "type": "scattermapbox",
            "marker": {
             "colorbar": {
              "outlinewidth": 0,
              "ticks": ""
             }
            }
           }
          ],
          "scatterternary": [
           {
            "type": "scatterternary",
            "marker": {
             "colorbar": {
              "outlinewidth": 0,
              "ticks": ""
             }
            }
           }
          ],
          "scattercarpet": [
           {
            "type": "scattercarpet",
            "marker": {
             "colorbar": {
              "outlinewidth": 0,
              "ticks": ""
             }
            }
           }
          ],
          "carpet": [
           {
            "aaxis": {
             "endlinecolor": "#A2B1C6",
             "gridcolor": "#506784",
             "linecolor": "#506784",
             "minorgridcolor": "#506784",
             "startlinecolor": "#A2B1C6"
            },
            "baxis": {
             "endlinecolor": "#A2B1C6",
             "gridcolor": "#506784",
             "linecolor": "#506784",
             "minorgridcolor": "#506784",
             "startlinecolor": "#A2B1C6"
            },
            "type": "carpet"
           }
          ],
          "table": [
           {
            "cells": {
             "fill": {
              "color": "#506784"
             },
             "line": {
              "color": "rgb(17,17,17)"
             }
            },
            "header": {
             "fill": {
              "color": "#2a3f5f"
             },
             "line": {
              "color": "rgb(17,17,17)"
             }
            },
            "type": "table"
           }
          ],
          "barpolar": [
           {
            "marker": {
             "line": {
              "color": "rgb(17,17,17)",
              "width": 0.5
             },
             "pattern": {
              "fillmode": "overlay",
              "size": 10,
              "solidity": 0.2
             }
            },
            "type": "barpolar"
           }
          ],
          "pie": [
           {
            "automargin": true,
            "type": "pie"
           }
          ]
         },
         "layout": {
          "autotypenumbers": "strict",
          "colorway": [
           "#636efa",
           "#EF553B",
           "#00cc96",
           "#ab63fa",
           "#FFA15A",
           "#19d3f3",
           "#FF6692",
           "#B6E880",
           "#FF97FF",
           "#FECB52"
          ],
          "font": {
           "color": "#f2f5fa"
          },
          "hovermode": "closest",
          "hoverlabel": {
           "align": "left"
          },
          "paper_bgcolor": "rgb(17,17,17)",
          "plot_bgcolor": "rgb(17,17,17)",
          "polar": {
           "bgcolor": "rgb(17,17,17)",
           "angularaxis": {
            "gridcolor": "#506784",
            "linecolor": "#506784",
            "ticks": ""
           },
           "radialaxis": {
            "gridcolor": "#506784",
            "linecolor": "#506784",
            "ticks": ""
           }
          },
          "ternary": {
           "bgcolor": "rgb(17,17,17)",
           "aaxis": {
            "gridcolor": "#506784",
            "linecolor": "#506784",
            "ticks": ""
           },
           "baxis": {
            "gridcolor": "#506784",
            "linecolor": "#506784",
            "ticks": ""
           },
           "caxis": {
            "gridcolor": "#506784",
            "linecolor": "#506784",
            "ticks": ""
           }
          },
          "coloraxis": {
           "colorbar": {
            "outlinewidth": 0,
            "ticks": ""
           }
          },
          "colorscale": {
           "sequential": [
            [
             0.0,
             "#0d0887"
            ],
            [
             0.1111111111111111,
             "#46039f"
            ],
            [
             0.2222222222222222,
             "#7201a8"
            ],
            [
             0.3333333333333333,
             "#9c179e"
            ],
            [
             0.4444444444444444,
             "#bd3786"
            ],
            [
             0.5555555555555556,
             "#d8576b"
            ],
            [
             0.6666666666666666,
             "#ed7953"
            ],
            [
             0.7777777777777778,
             "#fb9f3a"
            ],
            [
             0.8888888888888888,
             "#fdca26"
            ],
            [
             1.0,
             "#f0f921"
            ]
           ],
           "sequentialminus": [
            [
             0.0,
             "#0d0887"
            ],
            [
             0.1111111111111111,
             "#46039f"
            ],
            [
             0.2222222222222222,
             "#7201a8"
            ],
            [
             0.3333333333333333,
             "#9c179e"
            ],
            [
             0.4444444444444444,
             "#bd3786"
            ],
            [
             0.5555555555555556,
             "#d8576b"
            ],
            [
             0.6666666666666666,
             "#ed7953"
            ],
            [
             0.7777777777777778,
             "#fb9f3a"
            ],
            [
             0.8888888888888888,
             "#fdca26"
            ],
            [
             1.0,
             "#f0f921"
            ]
           ],
           "diverging": [
            [
             0,
             "#8e0152"
            ],
            [
             0.1,
             "#c51b7d"
            ],
            [
             0.2,
             "#de77ae"
            ],
            [
             0.3,
             "#f1b6da"
            ],
            [
             0.4,
             "#fde0ef"
            ],
            [
             0.5,
             "#f7f7f7"
            ],
            [
             0.6,
             "#e6f5d0"
            ],
            [
             0.7,
             "#b8e186"
            ],
            [
             0.8,
             "#7fbc41"
            ],
            [
             0.9,
             "#4d9221"
            ],
            [
             1,
             "#276419"
            ]
           ]
          },
          "xaxis": {
           "gridcolor": "#283442",
           "linecolor": "#506784",
           "ticks": "",
           "title": {
            "standoff": 15
           },
           "zerolinecolor": "#283442",
           "automargin": true,
           "zerolinewidth": 2
          },
          "yaxis": {
           "gridcolor": "#283442",
           "linecolor": "#506784",
           "ticks": "",
           "title": {
            "standoff": 15
           },
           "zerolinecolor": "#283442",
           "automargin": true,
           "zerolinewidth": 2
          },
          "scene": {
           "xaxis": {
            "backgroundcolor": "rgb(17,17,17)",
            "gridcolor": "#506784",
            "linecolor": "#506784",
            "showbackground": true,
            "ticks": "",
            "zerolinecolor": "#C8D4E3",
            "gridwidth": 2
           },
           "yaxis": {
            "backgroundcolor": "rgb(17,17,17)",
            "gridcolor": "#506784",
            "linecolor": "#506784",
            "showbackground": true,
            "ticks": "",
            "zerolinecolor": "#C8D4E3",
            "gridwidth": 2
           },
           "zaxis": {
            "backgroundcolor": "rgb(17,17,17)",
            "gridcolor": "#506784",
            "linecolor": "#506784",
            "showbackground": true,
            "ticks": "",
            "zerolinecolor": "#C8D4E3",
            "gridwidth": 2
           }
          },
          "shapedefaults": {
           "line": {
            "color": "#f2f5fa"
           }
          },
          "annotationdefaults": {
           "arrowcolor": "#f2f5fa",
           "arrowhead": 0,
           "arrowwidth": 1
          },
          "geo": {
           "bgcolor": "rgb(17,17,17)",
           "landcolor": "rgb(17,17,17)",
           "subunitcolor": "#506784",
           "showland": true,
           "showlakes": true,
           "lakecolor": "rgb(17,17,17)"
          },
          "title": {
           "x": 0.05
          },
          "updatemenudefaults": {
           "bgcolor": "#506784",
           "borderwidth": 0
          },
          "sliderdefaults": {
           "bgcolor": "#C8D4E3",
           "borderwidth": 1,
           "bordercolor": "rgb(17,17,17)",
           "tickwidth": 0
          },
          "mapbox": {
           "style": "dark"
          }
         }
        },
        "xaxis": {
         "anchor": "y",
         "domain": [
          0.0,
          1.0
         ],
         "title": {
          "text": "x"
         }
        },
        "yaxis": {
         "anchor": "x",
         "domain": [
          0.0,
          1.0
         ],
         "title": {
          "text": "y"
         }
        },
        "legend": {
         "tracegroupgap": 0
        },
        "margin": {
         "t": 60
        }
       },
       "config": {
        "plotlyServerURL": "https://plot.ly"
       }
      }
     },
     "metadata": {},
     "output_type": "display_data"
    }
   ],
   "execution_count": 91
  },
  {
   "metadata": {
    "ExecuteTime": {
     "end_time": "2025-07-17T12:59:07.657296Z",
     "start_time": "2025-07-17T12:59:07.655302Z"
    }
   },
   "cell_type": "code",
   "source": "",
   "id": "f675bb9d09d2ebd7",
   "outputs": [],
   "execution_count": null
  }
 ],
 "metadata": {
  "kernelspec": {
   "display_name": "Python 3",
   "language": "python",
   "name": "python3"
  },
  "language_info": {
   "codemirror_mode": {
    "name": "ipython",
    "version": 2
   },
   "file_extension": ".py",
   "mimetype": "text/x-python",
   "name": "python",
   "nbconvert_exporter": "python",
   "pygments_lexer": "ipython2",
   "version": "2.7.6"
  }
 },
 "nbformat": 4,
 "nbformat_minor": 5
}
